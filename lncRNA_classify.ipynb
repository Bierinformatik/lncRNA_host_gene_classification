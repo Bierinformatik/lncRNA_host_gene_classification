{
 "cells": [
  {
   "cell_type": "code",
   "execution_count": 1,
   "metadata": {},
   "outputs": [],
   "source": [
    "#from sklearn.model_selection import StratifiedKFold\n",
    "#from sklearn.feature_selection import RFECV\n",
    "#from multiprocess import Pool\n",
    "import numpy as np\n",
    "import pandas as pd\n",
    "import os\n",
    "from os.path import abspath, join\n",
    "from sklearn.model_selection import train_test_split\n",
    "from sklearn.preprocessing import OrdinalEncoder\n",
    "from sklearn.compose import ColumnTransformer\n",
    "from sklearn.ensemble import RandomForestClassifier\n",
    "from sklearn.pipeline import Pipeline\n",
    "from sklearn.preprocessing import StandardScaler\n",
    "from sklearn.metrics import classification_report\n",
    "from sklearn.model_selection import cross_val_score, cross_val_predict, GridSearchCV\n",
    "from sklearn.metrics import accuracy_score, confusion_matrix, plot_confusion_matrix, auc, plot_roc_curve\n",
    "from sklearn.preprocessing import MultiLabelBinarizer\n",
    "import matplotlib.pyplot as plt\n",
    "from sklearn.cluster import KMeans\n",
    "from sklearn.decomposition import PCA\n",
    "from collections import Counter\n",
    "#import pickle"
   ]
  },
  {
   "cell_type": "markdown",
   "metadata": {},
   "source": [
    "there are four training sets\n",
    "each of which are divided into three feature sets - fs1, fs2, fs3\n",
    "\n",
    "fs1 - sequence, GC content, kmer weights, with or without fickett score\n",
    "\n",
    "fs2 - fs1 + pairing probabilities\n",
    "\n",
    "fs3 - fs2 + conservation scores\n",
    "\n",
    "the pipeline is divided into three main parts:\n",
    "1) dataset curation with the basic features\n",
    "\n",
    "2) calculation of kmer weights and recording them in tuples (key, weight, frequency)\n",
    "\n",
    "3) training the random forest classifier"
   ]
  },
  {
   "cell_type": "code",
   "execution_count": 2,
   "metadata": {},
   "outputs": [],
   "source": [
    "os.chdir(\"training_1\")\n",
    "#training_[1,4] are the directories for four sets of training data\n",
    "#each folder contains three more directories fs[1,3] for the three feature sets"
   ]
  },
  {
   "cell_type": "code",
   "execution_count": 3,
   "metadata": {},
   "outputs": [],
   "source": [
    "#the balanced dataset is loaded from each feature set-fickett score combination\n",
    "flanks_down = pd.read_csv(\"fs1/w_fickett/down_fickett\", index_col=0)\n",
    "#for fs1\n",
    "#w_fickett/down_fickett -> with fickett\n",
    "#wo_fickett/down_no_fickett -> without fickett\n",
    "\n",
    "#for fs2\n",
    "#w_fickett/down_pp_fickett -> with fickett\n",
    "#wo_fickett/down_pp_no_fickett -> without fickett\n",
    "\n",
    "#for fs3\n",
    "#w_fickett/down_cons_fickett -> with fickett\n",
    "#wo_fickett/down_cons_no_fickett -> without fickett"
   ]
  },
  {
   "cell_type": "code",
   "execution_count": 4,
   "metadata": {},
   "outputs": [
    {
     "name": "stdout",
     "output_type": "stream",
     "text": [
      "<class 'pandas.core.frame.DataFrame'>\n",
      "Int64Index: 1035 entries, 0 to 1034\n",
      "Data columns (total 5 columns):\n",
      " #   Column   Non-Null Count  Dtype  \n",
      "---  ------   --------------  -----  \n",
      " 0   gene_id  1035 non-null   object \n",
      " 1   seq      1035 non-null   object \n",
      " 2   gc       1035 non-null   float64\n",
      " 3   fickett  1035 non-null   float64\n",
      " 4   target   1035 non-null   object \n",
      "dtypes: float64(2), object(3)\n",
      "memory usage: 48.5+ KB\n"
     ]
    }
   ],
   "source": [
    "flanks_down.info()"
   ]
  },
  {
   "cell_type": "code",
   "execution_count": 5,
   "metadata": {},
   "outputs": [
    {
     "data": {
      "text/html": [
       "<div>\n",
       "<style scoped>\n",
       "    .dataframe tbody tr th:only-of-type {\n",
       "        vertical-align: middle;\n",
       "    }\n",
       "\n",
       "    .dataframe tbody tr th {\n",
       "        vertical-align: top;\n",
       "    }\n",
       "\n",
       "    .dataframe thead th {\n",
       "        text-align: right;\n",
       "    }\n",
       "</style>\n",
       "<table border=\"1\" class=\"dataframe\">\n",
       "  <thead>\n",
       "    <tr style=\"text-align: right;\">\n",
       "      <th></th>\n",
       "      <th>gene_id</th>\n",
       "      <th>seq</th>\n",
       "      <th>gc</th>\n",
       "      <th>fickett</th>\n",
       "      <th>target</th>\n",
       "    </tr>\n",
       "  </thead>\n",
       "  <tbody>\n",
       "    <tr>\n",
       "      <th>0</th>\n",
       "      <td>ENSG00000232006.8.0</td>\n",
       "      <td>CAAATTCCTTATTTGATATTTAGTATTTGGAGTTAGGGGAAATGAG...</td>\n",
       "      <td>0.36</td>\n",
       "      <td>0.4954</td>\n",
       "      <td>sno</td>\n",
       "    </tr>\n",
       "    <tr>\n",
       "      <th>1</th>\n",
       "      <td>ENSG00000278610.1.0</td>\n",
       "      <td>TAAAATCTCACTTCCTATCCTATTCTTAAAAATGCATAGATTATAC...</td>\n",
       "      <td>0.35</td>\n",
       "      <td>0.3968</td>\n",
       "      <td>sno</td>\n",
       "    </tr>\n",
       "    <tr>\n",
       "      <th>2</th>\n",
       "      <td>SNHG15.0</td>\n",
       "      <td>TCTCTTCCAAGACACCTTCCCTTCTTCCTCAGCCAGAAAGGATCTT...</td>\n",
       "      <td>0.49</td>\n",
       "      <td>0.5531</td>\n",
       "      <td>sno</td>\n",
       "    </tr>\n",
       "    <tr>\n",
       "      <th>3</th>\n",
       "      <td>ENSG00000263307.1.0</td>\n",
       "      <td>TTATATGACATTCCAATTTCTGGGTCCGTAAGTAAAGTTTTACTGG...</td>\n",
       "      <td>0.47</td>\n",
       "      <td>0.6379</td>\n",
       "      <td>sno</td>\n",
       "    </tr>\n",
       "    <tr>\n",
       "      <th>4</th>\n",
       "      <td>ENSG00000255867.1.0</td>\n",
       "      <td>AACTAATCTGTGGGCTGGGCACAGTGGCTCACGCCTGTAATCCCAA...</td>\n",
       "      <td>0.46</td>\n",
       "      <td>0.6354</td>\n",
       "      <td>sno</td>\n",
       "    </tr>\n",
       "  </tbody>\n",
       "</table>\n",
       "</div>"
      ],
      "text/plain": [
       "               gene_id                                                seq  \\\n",
       "0  ENSG00000232006.8.0  CAAATTCCTTATTTGATATTTAGTATTTGGAGTTAGGGGAAATGAG...   \n",
       "1  ENSG00000278610.1.0  TAAAATCTCACTTCCTATCCTATTCTTAAAAATGCATAGATTATAC...   \n",
       "2             SNHG15.0  TCTCTTCCAAGACACCTTCCCTTCTTCCTCAGCCAGAAAGGATCTT...   \n",
       "3  ENSG00000263307.1.0  TTATATGACATTCCAATTTCTGGGTCCGTAAGTAAAGTTTTACTGG...   \n",
       "4  ENSG00000255867.1.0  AACTAATCTGTGGGCTGGGCACAGTGGCTCACGCCTGTAATCCCAA...   \n",
       "\n",
       "     gc  fickett target  \n",
       "0  0.36   0.4954    sno  \n",
       "1  0.35   0.3968    sno  \n",
       "2  0.49   0.5531    sno  \n",
       "3  0.47   0.6379    sno  \n",
       "4  0.46   0.6354    sno  "
      ]
     },
     "execution_count": 5,
     "metadata": {},
     "output_type": "execute_result"
    }
   ],
   "source": [
    "flanks_down.head()"
   ]
  },
  {
   "cell_type": "markdown",
   "metadata": {},
   "source": [
    "kmer weights are calculated and saved in tuples\n",
    "for every kmer-sequence combination a tuple is created where\n",
    "key: if the kmer is present in the sequence or not, [1,0]\n",
    "weight: the normalized kmer weight\n",
    "frequency: times the kmer occurs"
   ]
  },
  {
   "cell_type": "code",
   "execution_count": 6,
   "metadata": {},
   "outputs": [],
   "source": [
    "#a multilabel binarizer is employed to create a feature from each of the tuple elements\n",
    "cmlb=pd.read_hdf(\"fs1/cmlb5\", key=\"mlb\")"
   ]
  },
  {
   "cell_type": "code",
   "execution_count": 7,
   "metadata": {},
   "outputs": [],
   "source": [
    "#the final training set is created combining all the features\n",
    "features_combined = pd.concat([flanks_down, cmlb], axis=1, copy=False)"
   ]
  },
  {
   "cell_type": "code",
   "execution_count": 8,
   "metadata": {},
   "outputs": [
    {
     "name": "stdout",
     "output_type": "stream",
     "text": [
      "(207, 1)\n",
      "(207, 7098)\n",
      "(828, 1)\n",
      "(828, 7098)\n",
      "(828,)\n",
      "(207, 1)\n",
      "(828, 7098)\n",
      "(207, 7098)\n"
     ]
    }
   ],
   "source": [
    "#we split the training set 80-20 for the classifier to train on\n",
    "\n",
    "features_combined.drop(['gene_id'], 1, inplace=True)\n",
    "\n",
    "#for phatscons/fs3\n",
    "#val = {'cons_1':0, 'cons_2':0, 'cons_3':0, 'cons_4':0, 'cons_5':0, 'cons_6':0, \n",
    "#'cons_7':0, 'cons_8':0, 'cons_9':0, 'cons_10':0, 'cons_11':0, 'cons_12':0, 'cons_13':0, \n",
    "#'cons_14':0, 'cons_15':0, 'cons_16':0, 'cons_17':0, 'cons_18':0, 'cons_19':0, 'cons_20':0}\n",
    "#features_combined_3.fillna(value=val, inplace=True)\n",
    "\n",
    "\n",
    "ncrna_train, ncrna_test = train_test_split(features_combined, test_size=0.2, random_state=42)\n",
    "\n",
    "ncrna_test_target=ncrna_test[[\"target\"]]\n",
    "ncrna_test=ncrna_test.drop([\"target\"],1)\n",
    "print (ncrna_test_target.shape)\n",
    "print (ncrna_test.shape)\n",
    "\n",
    "ncrna_train_target=ncrna_train[[\"target\"]]\n",
    "ncrna_train=ncrna_train.drop([\"target\"],1)\n",
    "print (ncrna_train_target.shape)\n",
    "print (ncrna_train.shape)\n",
    "\n",
    "#separating numerical features and categorical features\n",
    "num_feat=[]\n",
    "for x in ncrna_train.columns[1:]:\n",
    "    num_feat.append(x)\n",
    "\n",
    "cat_feat = [\"seq\"]\n",
    "\n",
    "#encoding the sequence feature\n",
    "#scaling the rest of the features\n",
    "#and creating a ColumnTransformer object\n",
    "cct = ColumnTransformer([\n",
    "    ('oe', OrdinalEncoder(), cat_feat),\n",
    "    ('num', StandardScaler(), num_feat)\n",
    "    ], remainder='passthrough')\n",
    "\n",
    "#fitting the split training set and test set\n",
    "X_train = cct.fit_transform(ncrna_train)\n",
    "X_test = cct.fit_transform(ncrna_test)\n",
    "\n",
    "#encoding the target labels\n",
    "ordinal = OrdinalEncoder()\n",
    "y_train = ordinal.fit_transform(ncrna_train_target)\n",
    "y_test = ordinal.fit_transform(ncrna_test_target)\n",
    "\n",
    "y_train = np.ravel(y_train)\n",
    "\n",
    "print (y_train.shape)\n",
    "print (y_test.shape)\n",
    "\n",
    "print (X_train.shape)\n",
    "print (X_test.shape)"
   ]
  },
  {
   "cell_type": "code",
   "execution_count": 9,
   "metadata": {},
   "outputs": [
    {
     "name": "stdout",
     "output_type": "stream",
     "text": [
      "accuracy: 0.8309178743961353\n"
     ]
    }
   ],
   "source": [
    "#training the random forest classifier with default params\n",
    "rnd_clf = RandomForestClassifier(n_estimators=100, n_jobs=-1, random_state=42)\n",
    "rnd_clf.fit(X_train, y_train)\n",
    "y_pred = rnd_clf.predict(X_test)\n",
    "print (f'accuracy: {accuracy_score(y_test, y_pred)}')"
   ]
  },
  {
   "cell_type": "code",
   "execution_count": 10,
   "metadata": {},
   "outputs": [
    {
     "name": "stdout",
     "output_type": "stream",
     "text": [
      "Fitting 10 folds for each of 16 candidates, totalling 160 fits\n"
     ]
    },
    {
     "name": "stderr",
     "output_type": "stream",
     "text": [
      "[Parallel(n_jobs=-1)]: Using backend LokyBackend with 4 concurrent workers.\n",
      "[Parallel(n_jobs=-1)]: Done  42 tasks      | elapsed:  1.2min\n",
      "[Parallel(n_jobs=-1)]: Done 160 out of 160 | elapsed:  8.8min finished\n"
     ]
    },
    {
     "name": "stdout",
     "output_type": "stream",
     "text": [
      "Grid search cv10 best score: 0.8598883338230973\n"
     ]
    }
   ],
   "source": [
    "#grid search with 10-fold cv\n",
    "param_grid = {'oob_score': [True, False], 'bootstrap':[True],\n",
    "              'criterion': [\"gini\", \"entropy\"], 'n_estimators':[100,300,500,1000]}\n",
    "grid_search_def10 = GridSearchCV(RandomForestClassifier(random_state=42),\n",
    "    param_grid, scoring=\"accuracy\", n_jobs=-1, verbose=1, cv=10)\n",
    "grid_search_def10.fit(X_train, y_train)\n",
    "\n",
    "print (f\"Grid search cv10 best score: {grid_search_def10.best_score_}\")"
   ]
  },
  {
   "cell_type": "code",
   "execution_count": 11,
   "metadata": {},
   "outputs": [
    {
     "name": "stdout",
     "output_type": "stream",
     "text": [
      "Fitting 5 folds for each of 16 candidates, totalling 80 fits\n"
     ]
    },
    {
     "name": "stderr",
     "output_type": "stream",
     "text": [
      "[Parallel(n_jobs=-1)]: Using backend LokyBackend with 4 concurrent workers.\n",
      "[Parallel(n_jobs=-1)]: Done  42 tasks      | elapsed:  2.0min\n",
      "[Parallel(n_jobs=-1)]: Done  80 out of  80 | elapsed:  4.0min finished\n"
     ]
    },
    {
     "name": "stdout",
     "output_type": "stream",
     "text": [
      "Grid search cv5 best score: 0.8478495801387368\n"
     ]
    }
   ],
   "source": [
    "#grid search with 5-fold cv starts\n",
    "param_grid = {'oob_score': [True, False], 'bootstrap': [True],\n",
    "              'criterion': [\"gini\", \"entropy\"], 'n_estimators':[100,300,500,1000]}\n",
    "grid_search_def5 = GridSearchCV(RandomForestClassifier(random_state=42),\n",
    "    param_grid, scoring=\"accuracy\", n_jobs=-1, verbose=1, cv=5)\n",
    "grid_search_def5.fit(X_train, y_train)\n",
    "\n",
    "print (f\"Grid search cv5 best score: {grid_search_def5.best_score_}\")"
   ]
  },
  {
   "cell_type": "code",
   "execution_count": 12,
   "metadata": {},
   "outputs": [
    {
     "name": "stdout",
     "output_type": "stream",
     "text": [
      "Grid search accuracy best params: {'bootstrap': True, 'criterion': 'gini', 'n_estimators': 500, 'oob_score': True}\n"
     ]
    }
   ],
   "source": [
    "#model 1 is the best estimator from the grid search with 10-fold cv\n",
    "#best parameters\n",
    "best_params = grid_search_def10.best_params_\n",
    "print (f\"Grid search accuracy best params: {best_params}\")"
   ]
  },
  {
   "cell_type": "code",
   "execution_count": 13,
   "metadata": {},
   "outputs": [
    {
     "name": "stdout",
     "output_type": "stream",
     "text": [
      "Grid search accuracy best params: {'bootstrap': True, 'criterion': 'gini', 'n_estimators': 1000, 'oob_score': True}\n"
     ]
    }
   ],
   "source": [
    "#model 2 is the best estimator from the grid search with 5-fold cv\n",
    "best_params = grid_search_def5.best_params_\n",
    "print (f\"Grid search accuracy best params: {best_params}\")"
   ]
  },
  {
   "cell_type": "code",
   "execution_count": 14,
   "metadata": {},
   "outputs": [
    {
     "name": "stdout",
     "output_type": "stream",
     "text": [
      "0.8309178743961353\n"
     ]
    }
   ],
   "source": [
    "#original model \n",
    "y_pred_orig = rnd_clf.predict(X_test)\n",
    "print (accuracy_score(y_test, y_pred_orig))"
   ]
  },
  {
   "cell_type": "code",
   "execution_count": 15,
   "metadata": {},
   "outputs": [
    {
     "name": "stdout",
     "output_type": "stream",
     "text": [
      "              precision    recall  f1-score   support\n",
      "\n",
      "         0.0       0.95      1.00      0.98        63\n",
      "         1.0       0.74      0.78      0.76        68\n",
      "         2.0       0.81      0.74      0.77        76\n",
      "\n",
      "    accuracy                           0.83       207\n",
      "   macro avg       0.83      0.84      0.84       207\n",
      "weighted avg       0.83      0.83      0.83       207\n",
      "\n"
     ]
    },
    {
     "data": {
      "text/plain": [
       "array([[63,  0,  0],\n",
       "       [ 2, 53, 13],\n",
       "       [ 1, 19, 56]])"
      ]
     },
     "execution_count": 15,
     "metadata": {},
     "output_type": "execute_result"
    },
    {
     "data": {
      "image/png": "[encoded data removed]",
      "text/plain": [
       "<Figure size 432x288 with 2 Axes>"
      ]
     },
     "metadata": {
      "needs_background": "light"
     },
     "output_type": "display_data"
    }
   ],
   "source": [
    "#classification matrix for the original model\n",
    "print(classification_report(y_test, y_pred))\n",
    "\n",
    "#path = \"fs1/w_fickett/results\"\n",
    "#if not os.path.isdir(join(path)):\n",
    "#    os.makedirs(join(path))\n",
    "#plt.savefig(join(path,\"feat_imp.png\"))\n",
    "\n",
    "disp = plot_confusion_matrix(rnd_clf, X_test, y_test,\n",
    "                                     display_labels=[\"lnc\",\"mir\",\"sno\"],\n",
    "                                     cmap=plt.cm.Blues)\n",
    "disp.ax_.set_title('feature set #1 with fickett score')\n",
    "disp.confusion_matrix\n",
    "#plt.savefig(join(path,\"conf_mat.png\"))"
   ]
  },
  {
   "cell_type": "code",
   "execution_count": 16,
   "metadata": {},
   "outputs": [
    {
     "data": {
      "text/plain": [
       "<matplotlib.axes._subplots.AxesSubplot at 0x7efd78f4f520>"
      ]
     },
     "execution_count": 16,
     "metadata": {},
     "output_type": "execute_result"
    },
    {
     "data": {
      "image/png": "[encoded data removed]",
      "text/plain": [
       "<Figure size 1440x720 with 1 Axes>"
      ]
     },
     "metadata": {
      "needs_background": "light"
     },
     "output_type": "display_data"
    }
   ],
   "source": [
    "#feature importances\n",
    "feat_imp = rnd_clf.feature_importances_\n",
    "importances = pd.Series(feat_imp, index=features_combined.drop([\"target\"],1).columns)\n",
    "importances.nlargest(10).plot(kind=\"barh\",figsize=(20,10))"
   ]
  },
  {
   "cell_type": "markdown",
   "metadata": {},
   "source": [
    "the next section follows the unsupervised learning setup.\n",
    "k-means clustering of the three RNA classes and PCA with two components."
   ]
  },
  {
   "cell_type": "code",
   "execution_count": 17,
   "metadata": {
    "scrolled": true
   },
   "outputs": [
    {
     "name": "stdout",
     "output_type": "stream",
     "text": [
      "number of iterations : 16\n",
      "\n",
      "predicted classes on the training set: Counter({2: 278, 0: 278, 1: 272})\n",
      "\n",
      "actual classes on the trainig set: Counter({0.0: 282, 1.0: 277, 2.0: 269})\n",
      "\n",
      "accuracy training set: 0.3442028985507246\n",
      "\n",
      "number of correctly classified samples: 285\n",
      "\n",
      "predicted classes on the test set: Counter({2: 207})\n",
      "\n",
      "actual classes on the test set: Counter({2.0: 76, 1.0: 68, 0.0: 63})\n",
      "\n",
      "accuracy test set: 0.3671497584541063\n"
     ]
    }
   ],
   "source": [
    "#k-means clustering of the three classes\n",
    "y_test = np.ravel(y_test)\n",
    "\n",
    "km = KMeans (n_clusters=3, init=\"k-means++\", random_state=42).fit(X_train)\n",
    "\n",
    "y = km.predict(X_test)\n",
    "\n",
    "print (f'number of iterations : {km.n_iter_}\\n')\n",
    "\n",
    "#labels : {0: lnc, 1: mir, 2:sno}\n",
    "#training set\n",
    "print(f'predicted classes on the training set: {Counter(km.labels_)}\\n')\n",
    "print(f'actual classes on the trainig set: {Counter(y_train)}\\n')\n",
    "print(f'accuracy training set: {accuracy_score(y_train, km.labels_)}\\n')\n",
    "print(f'number of correctly classified samples: {accuracy_score(y_train, km.labels_, normalize=False)}\\n')\n",
    "\n",
    "#test set\n",
    "print(f'predicted classes on the test set: {Counter(y)}\\n')\n",
    "print(f'actual classes on the test set: {Counter(y_test)}\\n') \n",
    "print(f'accuracy test set: {accuracy_score(y_test, y)}')"
   ]
  },
  {
   "cell_type": "code",
   "execution_count": 18,
   "metadata": {},
   "outputs": [
    {
     "name": "stdout",
     "output_type": "stream",
     "text": [
      "explained variance ratio: [0.89200997 0.00130433]\n",
      "n_compponents: 2\n",
      "features: 7098\n",
      "samples: 828\n"
     ]
    },
    {
     "data": {
      "text/plain": [
       "<matplotlib.legend.Legend at 0x7efd7940e730>"
      ]
     },
     "execution_count": 18,
     "metadata": {},
     "output_type": "execute_result"
    },
    {
     "data": {
      "image/png": "[encoded data removed]",
      "text/plain": [
       "<Figure size 576x216 with 1 Axes>"
      ]
     },
     "metadata": {
      "needs_background": "light"
     },
     "output_type": "display_data"
    }
   ],
   "source": [
    "#pca\n",
    "p = PCA(n_components=2, random_state=42)\n",
    "\n",
    "X= p.fit_transform(X_train)\n",
    "\n",
    "print(f'explained variance ratio: {p.explained_variance_ratio_}')\n",
    "print(f'n_compponents: {p.n_components_}')\n",
    "print(f'features: {p.n_features_}')\n",
    "print(f'samples: {p.n_samples_}')\n",
    "\n",
    "fig = plt.figure(figsize=(8,3))\n",
    "colours = ['navy', 'turquoise', 'darkorange']\n",
    "targets = ['lnc', 'mir', 'sno']\n",
    "lw=2\n",
    "for colour, i, target_name in zip(colours, [0, 1, 2], targets):\n",
    "    plt.scatter(X[y_train == i, 0], X[y_train == i, 1], color=colour, alpha=.8, #lw=lw,\n",
    "                label=target_name)\n",
    "plt.legend(loc='best', shadow=False, scatterpoints=1)"
   ]
  }
 ],
 "metadata": {
  "kernelspec": {
   "display_name": "Python 3",
   "language": "python",
   "name": "python3"
  },
  "language_info": {
   "codemirror_mode": {
    "name": "ipython",
    "version": 3
   },
   "file_extension": ".py",
   "mimetype": "text/x-python",
   "name": "python",
   "nbconvert_exporter": "python",
   "pygments_lexer": "ipython3",
   "version": "3.8.3"
  }
 },
 "nbformat": 4,
 "nbformat_minor": 4
}
