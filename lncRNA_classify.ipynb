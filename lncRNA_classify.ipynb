{
 "cells": [
  {
   "cell_type": "code",
   "execution_count": 19,
   "metadata": {},
   "outputs": [],
   "source": [
    "#from sklearn.model_selection import StratifiedKFold\n",
    "#from sklearn.feature_selection import RFECV\n",
    "#from multiprocess import Pool\n",
    "import numpy as np\n",
    "import pandas as pd\n",
    "import os\n",
    "from os.path import abspath, join\n",
    "from sklearn.model_selection import train_test_split\n",
    "from sklearn.preprocessing import OrdinalEncoder\n",
    "from sklearn.compose import ColumnTransformer\n",
    "from sklearn.ensemble import RandomForestClassifier\n",
    "from sklearn.pipeline import Pipeline\n",
    "from sklearn.preprocessing import StandardScaler\n",
    "from sklearn.metrics import classification_report\n",
    "from sklearn.model_selection import cross_val_score, cross_val_predict, GridSearchCV\n",
    "from sklearn.metrics import accuracy_score, confusion_matrix, plot_confusion_matrix, auc, plot_roc_curve\n",
    "from sklearn.preprocessing import MultiLabelBinarizer\n",
    "import matplotlib.pyplot as plt\n",
    "from sklearn.cluster import KMeans\n",
    "from sklearn.decomposition import PCA\n",
    "from collections import Counter\n",
    "#import pickle"
   ]
  },
  {
   "cell_type": "markdown",
   "metadata": {},
   "source": [
    "# Supervised learning\n",
    "\n",
    "## Training\n",
    "\n",
    "There are four training sets\n",
    "each of which are divided into three feature sets - fs1, fs2, fs3\n",
    "\n",
    "*fs1* - sequence, GC content, kmer weights, with or without fickett score\n",
    "\n",
    "*fs2* - fs1 + pairing probabilities\n",
    "\n",
    "*fs3* - fs2 + conservation scores\n",
    "\n",
    "the pipeline is divided into three main parts:\n",
    "1. dataset curation with the basic features\n",
    "2. calculation of kmer weights and recording them in tuples (key, weight, frequency)\n",
    "3. training the random forest classifier\n",
    "\n",
    "*all datasets are downsampled to match the class with the least number of sequences by selecting random entries from every class.*"
   ]
  },
  {
   "cell_type": "markdown",
   "metadata": {},
   "source": [
    "### Training on dataset 1"
   ]
  },
  {
   "cell_type": "code",
   "execution_count": 20,
   "metadata": {},
   "outputs": [
    {
     "ename": "FileNotFoundError",
     "evalue": "[Errno 2] No such file or directory: 'training_1'",
     "output_type": "error",
     "traceback": [
      "\u001b[0;31m---------------------------------------------------------------------------\u001b[0m",
      "\u001b[0;31mFileNotFoundError\u001b[0m                         Traceback (most recent call last)",
      "\u001b[0;32m<ipython-input-20-9ea449d0a698>\u001b[0m in \u001b[0;36m<module>\u001b[0;34m\u001b[0m\n\u001b[0;32m----> 1\u001b[0;31m \u001b[0mos\u001b[0m\u001b[0;34m.\u001b[0m\u001b[0mchdir\u001b[0m\u001b[0;34m(\u001b[0m\u001b[0;34m\"training_1\"\u001b[0m\u001b[0;34m)\u001b[0m\u001b[0;34m\u001b[0m\u001b[0;34m\u001b[0m\u001b[0m\n\u001b[0m\u001b[1;32m      2\u001b[0m \u001b[0;31m#dataset 1 contains the payload along with 100 nt flanks\u001b[0m\u001b[0;34m\u001b[0m\u001b[0;34m\u001b[0m\u001b[0;34m\u001b[0m\u001b[0m\n\u001b[1;32m      3\u001b[0m \u001b[0;31m#there are 400 MIRHGs and 345 SNOHGs; to balance the dataset has been downsampled to 345 samples for each class\u001b[0m\u001b[0;34m\u001b[0m\u001b[0;34m\u001b[0m\u001b[0;34m\u001b[0m\u001b[0m\n\u001b[1;32m      4\u001b[0m \u001b[0;34m\u001b[0m\u001b[0m\n\u001b[1;32m      5\u001b[0m \u001b[0;31m#each folder contains three directories fs[1,3] for the three feature sets\u001b[0m\u001b[0;34m\u001b[0m\u001b[0;34m\u001b[0m\u001b[0;34m\u001b[0m\u001b[0m\n",
      "\u001b[0;31mFileNotFoundError\u001b[0m: [Errno 2] No such file or directory: 'training_1'"
     ]
    }
   ],
   "source": [
    "os.chdir(\"training_1\")\n",
    "#dataset 1 contains the payload along with 100 nt flanks\n",
    "#there are 400 MIRHGs and 345 SNOHGs; to balance the dataset has been downsampled to 345 samples for each class\n",
    "\n",
    "#each folder contains three directories fs[1,3] for the three feature sets\n",
    "#which can be used to load the respective files to execute the training process"
   ]
  },
  {
   "cell_type": "code",
   "execution_count": 21,
   "metadata": {},
   "outputs": [],
   "source": [
    "#the balanced dataset is loaded from each feature set-fickett score combination\n",
    "flanks_down = pd.read_csv(\"fs1/w_fickett/down_fickett\", index_col=0)\n",
    "#for fs1\n",
    "#w_fickett/down_fickett -> with fickett\n",
    "#wo_fickett/down_no_fickett -> without fickett\n",
    "\n",
    "#for fs2\n",
    "#w_fickett/down_pp_fickett -> with fickett\n",
    "#wo_fickett/down_pp_no_fickett -> without fickett\n",
    "\n",
    "#for fs3\n",
    "#w_fickett/down_cons_fickett -> with fickett\n",
    "#wo_fickett/down_cons_no_fickett -> without fickett"
   ]
  },
  {
   "cell_type": "code",
   "execution_count": 22,
   "metadata": {},
   "outputs": [
    {
     "name": "stdout",
     "output_type": "stream",
     "text": [
      "<class 'pandas.core.frame.DataFrame'>\n",
      "Int64Index: 1035 entries, 0 to 1034\n",
      "Data columns (total 5 columns):\n",
      " #   Column   Non-Null Count  Dtype  \n",
      "---  ------   --------------  -----  \n",
      " 0   gene_id  1035 non-null   object \n",
      " 1   seq      1035 non-null   object \n",
      " 2   gc       1035 non-null   float64\n",
      " 3   fickett  1035 non-null   float64\n",
      " 4   target   1035 non-null   object \n",
      "dtypes: float64(2), object(3)\n",
      "memory usage: 48.5+ KB\n"
     ]
    }
   ],
   "source": [
    "flanks_down.info()"
   ]
  },
  {
   "cell_type": "code",
   "execution_count": 23,
   "metadata": {},
   "outputs": [
    {
     "data": {
      "text/html": [
       "<div>\n",
       "<style scoped>\n",
       "    .dataframe tbody tr th:only-of-type {\n",
       "        vertical-align: middle;\n",
       "    }\n",
       "\n",
       "    .dataframe tbody tr th {\n",
       "        vertical-align: top;\n",
       "    }\n",
       "\n",
       "    .dataframe thead th {\n",
       "        text-align: right;\n",
       "    }\n",
       "</style>\n",
       "<table border=\"1\" class=\"dataframe\">\n",
       "  <thead>\n",
       "    <tr style=\"text-align: right;\">\n",
       "      <th></th>\n",
       "      <th>gene_id</th>\n",
       "      <th>seq</th>\n",
       "      <th>gc</th>\n",
       "      <th>fickett</th>\n",
       "      <th>target</th>\n",
       "    </tr>\n",
       "  </thead>\n",
       "  <tbody>\n",
       "    <tr>\n",
       "      <th>0</th>\n",
       "      <td>ENSG00000232006.8.0</td>\n",
       "      <td>CAAATTCCTTATTTGATATTTAGTATTTGGAGTTAGGGGAAATGAG...</td>\n",
       "      <td>0.36</td>\n",
       "      <td>0.4954</td>\n",
       "      <td>sno</td>\n",
       "    </tr>\n",
       "    <tr>\n",
       "      <th>1</th>\n",
       "      <td>ENSG00000278610.1.0</td>\n",
       "      <td>TAAAATCTCACTTCCTATCCTATTCTTAAAAATGCATAGATTATAC...</td>\n",
       "      <td>0.35</td>\n",
       "      <td>0.3968</td>\n",
       "      <td>sno</td>\n",
       "    </tr>\n",
       "    <tr>\n",
       "      <th>2</th>\n",
       "      <td>SNHG15.0</td>\n",
       "      <td>TCTCTTCCAAGACACCTTCCCTTCTTCCTCAGCCAGAAAGGATCTT...</td>\n",
       "      <td>0.49</td>\n",
       "      <td>0.5531</td>\n",
       "      <td>sno</td>\n",
       "    </tr>\n",
       "    <tr>\n",
       "      <th>3</th>\n",
       "      <td>ENSG00000263307.1.0</td>\n",
       "      <td>TTATATGACATTCCAATTTCTGGGTCCGTAAGTAAAGTTTTACTGG...</td>\n",
       "      <td>0.47</td>\n",
       "      <td>0.6379</td>\n",
       "      <td>sno</td>\n",
       "    </tr>\n",
       "    <tr>\n",
       "      <th>4</th>\n",
       "      <td>ENSG00000255867.1.0</td>\n",
       "      <td>AACTAATCTGTGGGCTGGGCACAGTGGCTCACGCCTGTAATCCCAA...</td>\n",
       "      <td>0.46</td>\n",
       "      <td>0.6354</td>\n",
       "      <td>sno</td>\n",
       "    </tr>\n",
       "  </tbody>\n",
       "</table>\n",
       "</div>"
      ],
      "text/plain": [
       "               gene_id                                                seq  \\\n",
       "0  ENSG00000232006.8.0  CAAATTCCTTATTTGATATTTAGTATTTGGAGTTAGGGGAAATGAG...   \n",
       "1  ENSG00000278610.1.0  TAAAATCTCACTTCCTATCCTATTCTTAAAAATGCATAGATTATAC...   \n",
       "2             SNHG15.0  TCTCTTCCAAGACACCTTCCCTTCTTCCTCAGCCAGAAAGGATCTT...   \n",
       "3  ENSG00000263307.1.0  TTATATGACATTCCAATTTCTGGGTCCGTAAGTAAAGTTTTACTGG...   \n",
       "4  ENSG00000255867.1.0  AACTAATCTGTGGGCTGGGCACAGTGGCTCACGCCTGTAATCCCAA...   \n",
       "\n",
       "     gc  fickett target  \n",
       "0  0.36   0.4954    sno  \n",
       "1  0.35   0.3968    sno  \n",
       "2  0.49   0.5531    sno  \n",
       "3  0.47   0.6379    sno  \n",
       "4  0.46   0.6354    sno  "
      ]
     },
     "execution_count": 23,
     "metadata": {},
     "output_type": "execute_result"
    }
   ],
   "source": [
    "flanks_down.head()"
   ]
  },
  {
   "cell_type": "markdown",
   "metadata": {},
   "source": [
    "kmer weights are calculated and saved in tuples for every kmer-sequence combination a tuple is created where\n",
    "\n",
    "`key`: if the kmer is present in the sequence or not, [1,0]\n",
    "\n",
    "`weight`: the normalized kmer weight\n",
    "\n",
    "`frequency`: times the kmer occurs"
   ]
  },
  {
   "cell_type": "code",
   "execution_count": 24,
   "metadata": {},
   "outputs": [],
   "source": [
    "#a multilabel binarizer is employed to create a feature from each of the tuple elements\n",
    "cmlb=pd.read_hdf(\"fs1/cmlb5\", key=\"mlb\")"
   ]
  },
  {
   "cell_type": "code",
   "execution_count": 25,
   "metadata": {},
   "outputs": [],
   "source": [
    "#the final training set is created combining all the features\n",
    "features_combined = pd.concat([flanks_down, cmlb], axis=1, copy=False)"
   ]
  },
  {
   "cell_type": "code",
   "execution_count": 26,
   "metadata": {},
   "outputs": [
    {
     "name": "stdout",
     "output_type": "stream",
     "text": [
      "(207, 1)\n",
      "(207, 7098)\n",
      "(828, 1)\n",
      "(828, 7098)\n",
      "(828,)\n",
      "(207, 1)\n",
      "(828, 7098)\n",
      "(207, 7098)\n"
     ]
    }
   ],
   "source": [
    "#we split the training set 80-20 for the classifier to train on\n",
    "\n",
    "features_combined.drop(['gene_id'], 1, inplace=True)\n",
    "\n",
    "#for phatscons/fs3\n",
    "#val = {'cons_1':0, 'cons_2':0, 'cons_3':0, 'cons_4':0, 'cons_5':0, 'cons_6':0, \n",
    "#'cons_7':0, 'cons_8':0, 'cons_9':0, 'cons_10':0, 'cons_11':0, 'cons_12':0, 'cons_13':0, \n",
    "#'cons_14':0, 'cons_15':0, 'cons_16':0, 'cons_17':0, 'cons_18':0, 'cons_19':0, 'cons_20':0}\n",
    "#features_combined_3.fillna(value=val, inplace=True)\n",
    "\n",
    "\n",
    "ncrna_train, ncrna_test = train_test_split(features_combined, test_size=0.2, random_state=42)\n",
    "\n",
    "ncrna_test_target=ncrna_test[[\"target\"]]\n",
    "ncrna_test=ncrna_test.drop([\"target\"],1)\n",
    "print (ncrna_test_target.shape)\n",
    "print (ncrna_test.shape)\n",
    "\n",
    "ncrna_train_target=ncrna_train[[\"target\"]]\n",
    "ncrna_train=ncrna_train.drop([\"target\"],1)\n",
    "print (ncrna_train_target.shape)\n",
    "print (ncrna_train.shape)\n",
    "\n",
    "#separating numerical features and categorical features\n",
    "num_feat=[]\n",
    "for x in ncrna_train.columns[1:]:\n",
    "    num_feat.append(x)\n",
    "\n",
    "cat_feat = [\"seq\"]\n",
    "\n",
    "#encoding the sequence feature\n",
    "#scaling the rest of the features\n",
    "#and creating a ColumnTransformer object\n",
    "cct = ColumnTransformer([\n",
    "    ('oe', OrdinalEncoder(), cat_feat),\n",
    "    ('num', StandardScaler(), num_feat)\n",
    "    ], remainder='passthrough')\n",
    "\n",
    "#fitting the split training set and test set\n",
    "X_train = cct.fit_transform(ncrna_train)\n",
    "X_test = cct.fit_transform(ncrna_test)\n",
    "\n",
    "#encoding the target labels\n",
    "ordinal = OrdinalEncoder()\n",
    "y_train = ordinal.fit_transform(ncrna_train_target)\n",
    "y_test = ordinal.fit_transform(ncrna_test_target)\n",
    "\n",
    "y_train = np.ravel(y_train)\n",
    "\n",
    "print (y_train.shape)\n",
    "print (y_test.shape)\n",
    "\n",
    "print (X_train.shape)\n",
    "print (X_test.shape)"
   ]
  },
  {
   "cell_type": "code",
   "execution_count": 27,
   "metadata": {},
   "outputs": [
    {
     "name": "stdout",
     "output_type": "stream",
     "text": [
      "accuracy: 0.8309178743961353\n"
     ]
    }
   ],
   "source": [
    "#training the random forest classifier with default params\n",
    "rnd_clf = RandomForestClassifier(n_estimators=100, n_jobs=-1, random_state=42)\n",
    "rnd_clf.fit(X_train, y_train)\n",
    "y_pred = rnd_clf.predict(X_test)\n",
    "print (f'accuracy: {accuracy_score(y_test, y_pred)}')"
   ]
  },
  {
   "cell_type": "code",
   "execution_count": 28,
   "metadata": {},
   "outputs": [
    {
     "name": "stdout",
     "output_type": "stream",
     "text": [
      "Fitting 10 folds for each of 16 candidates, totalling 160 fits\n"
     ]
    },
    {
     "name": "stderr",
     "output_type": "stream",
     "text": [
      "[Parallel(n_jobs=-1)]: Using backend LokyBackend with 8 concurrent workers.\n",
      "[Parallel(n_jobs=-1)]: Done  34 tasks      | elapsed:   22.1s\n",
      "[Parallel(n_jobs=-1)]: Done 160 out of 160 | elapsed:  3.7min finished\n"
     ]
    },
    {
     "name": "stdout",
     "output_type": "stream",
     "text": [
      "Grid search cv10 best score: 0.8598883338230973\n"
     ]
    }
   ],
   "source": [
    "#grid search with 10-fold cv\n",
    "param_grid = {'oob_score': [True, False], 'bootstrap':[True],\n",
    "              'criterion': [\"gini\", \"entropy\"], 'n_estimators':[100,300,500,1000]}\n",
    "grid_search_def10 = GridSearchCV(RandomForestClassifier(random_state=42),\n",
    "    param_grid, scoring=\"accuracy\", n_jobs=-1, verbose=1, cv=10)\n",
    "grid_search_def10.fit(X_train, y_train)\n",
    "\n",
    "print (f\"Grid search cv10 best score: {grid_search_def10.best_score_}\")"
   ]
  },
  {
   "cell_type": "code",
   "execution_count": 29,
   "metadata": {},
   "outputs": [
    {
     "name": "stdout",
     "output_type": "stream",
     "text": [
      "Fitting 5 folds for each of 16 candidates, totalling 80 fits\n"
     ]
    },
    {
     "name": "stderr",
     "output_type": "stream",
     "text": [
      "[Parallel(n_jobs=-1)]: Using backend LokyBackend with 8 concurrent workers.\n",
      "[Parallel(n_jobs=-1)]: Done  34 tasks      | elapsed:   42.2s\n",
      "[Parallel(n_jobs=-1)]: Done  80 out of  80 | elapsed:  1.7min finished\n"
     ]
    },
    {
     "name": "stdout",
     "output_type": "stream",
     "text": [
      "Grid search cv5 best score: 0.8478495801387368\n"
     ]
    }
   ],
   "source": [
    "#grid search with 5-fold cv starts\n",
    "param_grid = {'oob_score': [True, False], 'bootstrap': [True],\n",
    "              'criterion': [\"gini\", \"entropy\"], 'n_estimators':[100,300,500,1000]}\n",
    "grid_search_def5 = GridSearchCV(RandomForestClassifier(random_state=42),\n",
    "    param_grid, scoring=\"accuracy\", n_jobs=-1, verbose=1, cv=5)\n",
    "grid_search_def5.fit(X_train, y_train)\n",
    "\n",
    "print (f\"Grid search cv5 best score: {grid_search_def5.best_score_}\")"
   ]
  },
  {
   "cell_type": "code",
   "execution_count": 30,
   "metadata": {},
   "outputs": [
    {
     "name": "stdout",
     "output_type": "stream",
     "text": [
      "Grid search accuracy best params: {'bootstrap': True, 'criterion': 'gini', 'n_estimators': 500, 'oob_score': True}\n"
     ]
    }
   ],
   "source": [
    "#model 1 is the best estimator from the grid search with 10-fold cv\n",
    "#best parameters\n",
    "best_params = grid_search_def10.best_params_\n",
    "print (f\"Grid search accuracy best params: {best_params}\")"
   ]
  },
  {
   "cell_type": "code",
   "execution_count": 31,
   "metadata": {},
   "outputs": [
    {
     "name": "stdout",
     "output_type": "stream",
     "text": [
      "Grid search accuracy best params: {'bootstrap': True, 'criterion': 'gini', 'n_estimators': 1000, 'oob_score': True}\n"
     ]
    }
   ],
   "source": [
    "#model 2 is the best estimator from the grid search with 5-fold cv\n",
    "best_params = grid_search_def5.best_params_\n",
    "print (f\"Grid search accuracy best params: {best_params}\")"
   ]
  },
  {
   "cell_type": "code",
   "execution_count": 32,
   "metadata": {},
   "outputs": [
    {
     "name": "stdout",
     "output_type": "stream",
     "text": [
      "0.8309178743961353\n"
     ]
    }
   ],
   "source": [
    "#original model \n",
    "y_pred_orig = rnd_clf.predict(X_test)\n",
    "print (accuracy_score(y_test, y_pred_orig))"
   ]
  },
  {
   "cell_type": "code",
   "execution_count": 33,
   "metadata": {},
   "outputs": [
    {
     "name": "stdout",
     "output_type": "stream",
     "text": [
      "              precision    recall  f1-score   support\n",
      "\n",
      "         0.0       0.95      1.00      0.98        63\n",
      "         1.0       0.74      0.78      0.76        68\n",
      "         2.0       0.81      0.74      0.77        76\n",
      "\n",
      "    accuracy                           0.83       207\n",
      "   macro avg       0.83      0.84      0.84       207\n",
      "weighted avg       0.83      0.83      0.83       207\n",
      "\n"
     ]
    },
    {
     "data": {
      "text/plain": [
       "array([[63,  0,  0],\n",
       "       [ 2, 53, 13],\n",
       "       [ 1, 19, 56]])"
      ]
     },
     "execution_count": 33,
     "metadata": {},
     "output_type": "execute_result"
    },
    {
     "data": {
      "image/png": "[encoded data removed]",
      "text/plain": [
       "<Figure size 432x288 with 2 Axes>"
      ]
     },
     "metadata": {
      "needs_background": "light"
     },
     "output_type": "display_data"
    }
   ],
   "source": [
    "#classification matrix for the original model\n",
    "print(classification_report(y_test, y_pred))\n",
    "\n",
    "#path = \"fs1/w_fickett/results\"\n",
    "#if not os.path.isdir(join(path)):\n",
    "#    os.makedirs(join(path))\n",
    "#plt.savefig(join(path,\"feat_imp.png\"))\n",
    "\n",
    "disp = plot_confusion_matrix(rnd_clf, X_test, y_test,\n",
    "                                     display_labels=[\"lnc\",\"mir\",\"sno\"],\n",
    "                                     cmap=plt.cm.Blues)\n",
    "disp.ax_.set_title('feature set #1 with fickett score')\n",
    "disp.confusion_matrix\n",
    "#plt.savefig(join(path,\"conf_mat.png\"))"
   ]
  },
  {
   "cell_type": "code",
   "execution_count": 34,
   "metadata": {},
   "outputs": [
    {
     "data": {
      "text/plain": [
       "<matplotlib.axes._subplots.AxesSubplot at 0x7f6f526b7130>"
      ]
     },
     "execution_count": 34,
     "metadata": {},
     "output_type": "execute_result"
    },
    {
     "data": {
      "image/png": "[encoded data removed]",
      "text/plain": [
       "<Figure size 1440x720 with 1 Axes>"
      ]
     },
     "metadata": {
      "needs_background": "light"
     },
     "output_type": "display_data"
    }
   ],
   "source": [
    "#feature importances\n",
    "feat_imp = rnd_clf.feature_importances_\n",
    "importances = pd.Series(feat_imp, index=features_combined.drop([\"target\"],1).columns)\n",
    "importances.nlargest(10).plot(kind=\"barh\",figsize=(20,10))"
   ]
  },
  {
   "cell_type": "markdown",
   "metadata": {},
   "source": [
    "# Unsupervised learning\n",
    "The next section follows the unsupervised learning setup.\n",
    "k-means clustering of the three RNA classes and PCA with two components."
   ]
  },
  {
   "cell_type": "code",
   "execution_count": 35,
   "metadata": {
    "scrolled": true
   },
   "outputs": [
    {
     "name": "stdout",
     "output_type": "stream",
     "text": [
      "number of iterations : 16\n",
      "\n",
      "predicted classes on the training set: Counter({2: 278, 0: 278, 1: 272})\n",
      "\n",
      "actual classes on the trainig set: Counter({0.0: 282, 1.0: 277, 2.0: 269})\n",
      "\n",
      "accuracy training set: 0.3442028985507246\n",
      "\n",
      "number of correctly classified samples: 285\n",
      "\n",
      "predicted classes on the test set: Counter({2: 207})\n",
      "\n",
      "actual classes on the test set: Counter({2.0: 76, 1.0: 68, 0.0: 63})\n",
      "\n",
      "accuracy test set: 0.3671497584541063\n"
     ]
    }
   ],
   "source": [
    "#k-means clustering of the three classes\n",
    "y_test = np.ravel(y_test)\n",
    "\n",
    "km = KMeans (n_clusters=3, init=\"k-means++\", random_state=42).fit(X_train)\n",
    "\n",
    "y = km.predict(X_test)\n",
    "\n",
    "print (f'number of iterations : {km.n_iter_}\\n')\n",
    "\n",
    "#labels : {0: lnc, 1: mir, 2:sno}\n",
    "#training set\n",
    "print(f'predicted classes on the training set: {Counter(km.labels_)}\\n')\n",
    "print(f'actual classes on the trainig set: {Counter(y_train)}\\n')\n",
    "print(f'accuracy training set: {accuracy_score(y_train, km.labels_)}\\n')\n",
    "print(f'number of correctly classified samples: {accuracy_score(y_train, km.labels_, normalize=False)}\\n')\n",
    "\n",
    "#test set\n",
    "print(f'predicted classes on the test set: {Counter(y)}\\n')\n",
    "print(f'actual classes on the test set: {Counter(y_test)}\\n') \n",
    "print(f'accuracy test set: {accuracy_score(y_test, y)}')"
   ]
  },
  {
   "cell_type": "code",
   "execution_count": 36,
   "metadata": {},
   "outputs": [
    {
     "name": "stdout",
     "output_type": "stream",
     "text": [
      "explained variance ratio: [0.89200997 0.00130433]\n",
      "n_compponents: 2\n",
      "features: 7098\n",
      "samples: 828\n"
     ]
    },
    {
     "data": {
      "text/plain": [
       "<matplotlib.legend.Legend at 0x7f6f58c57c70>"
      ]
     },
     "execution_count": 36,
     "metadata": {},
     "output_type": "execute_result"
    },
    {
     "data": {
      "image/png": "[encoded data removed]",
      "text/plain": [
       "<Figure size 576x216 with 1 Axes>"
      ]
     },
     "metadata": {
      "needs_background": "light"
     },
     "output_type": "display_data"
    }
   ],
   "source": [
    "#pca\n",
    "p = PCA(n_components=2, random_state=42)\n",
    "\n",
    "X= p.fit_transform(X_train)\n",
    "\n",
    "print(f'explained variance ratio: {p.explained_variance_ratio_}')\n",
    "print(f'n_compponents: {p.n_components_}')\n",
    "print(f'features: {p.n_features_}')\n",
    "print(f'samples: {p.n_samples_}')\n",
    "\n",
    "fig = plt.figure(figsize=(8,3))\n",
    "colours = ['navy', 'turquoise', 'darkorange']\n",
    "targets = ['lnc', 'mir', 'sno']\n",
    "lw=2\n",
    "for colour, i, target_name in zip(colours, [0, 1, 2], targets):\n",
    "    plt.scatter(X[y_train == i, 0], X[y_train == i, 1], color=colour, alpha=.8, #lw=lw,\n",
    "                label=target_name)\n",
    "plt.legend(loc='best', shadow=False, scatterpoints=1)"
   ]
  },
  {
   "cell_type": "markdown",
   "metadata": {},
   "source": [
    "### End of training on dataset 1"
   ]
  },
  {
   "cell_type": "markdown",
   "metadata": {},
   "source": [
    "### Dataset 2"
   ]
  },
  {
   "cell_type": "code",
   "execution_count": 37,
   "metadata": {},
   "outputs": [],
   "source": [
    "os.chdir(\"../training_2\")\n",
    "#dataset 2 contains 100 nt flanks around the payload, but excluding the payload itself\n",
    "#there are 800 MIRHGs and 690 SNOHGs; to balance the dataset has been downsampled to 690 samples for each class\n",
    "\n",
    "#each folder contains three directories fs[1,3] for the three feature sets\n",
    "#which can be used to load the respective files to execute the training process"
   ]
  },
  {
   "cell_type": "code",
   "execution_count": 38,
   "metadata": {},
   "outputs": [],
   "source": [
    "#the balanced dataset is loaded from each feature set-fickett score combination\n",
    "flanks_down = pd.read_csv(\"fs1/w_fickett/down_fickett\", index_col=0)\n",
    "#for fs1\n",
    "#w_fickett/down_fickett -> with fickett\n",
    "#wo_fickett/down_no_fickett -> without fickett\n",
    "\n",
    "#for fs2\n",
    "#w_fickett/down_pp_fickett -> with fickett\n",
    "#wo_fickett/down_pp_no_fickett -> without fickett\n",
    "\n",
    "#for fs3\n",
    "#w_fickett/down_cons_fickett -> with fickett\n",
    "#wo_fickett/down_cons_no_fickett -> without fickett"
   ]
  },
  {
   "cell_type": "code",
   "execution_count": 39,
   "metadata": {},
   "outputs": [
    {
     "name": "stdout",
     "output_type": "stream",
     "text": [
      "<class 'pandas.core.frame.DataFrame'>\n",
      "Int64Index: 2070 entries, 0 to 2069\n",
      "Data columns (total 5 columns):\n",
      " #   Column   Non-Null Count  Dtype  \n",
      "---  ------   --------------  -----  \n",
      " 0   gene_id  2070 non-null   object \n",
      " 1   seq      2070 non-null   object \n",
      " 2   gc       2070 non-null   float64\n",
      " 3   fickett  2070 non-null   float64\n",
      " 4   target   2070 non-null   object \n",
      "dtypes: float64(2), object(3)\n",
      "memory usage: 97.0+ KB\n"
     ]
    }
   ],
   "source": [
    "flanks_down.info()"
   ]
  },
  {
   "cell_type": "code",
   "execution_count": 40,
   "metadata": {},
   "outputs": [
    {
     "data": {
      "text/html": [
       "<div>\n",
       "<style scoped>\n",
       "    .dataframe tbody tr th:only-of-type {\n",
       "        vertical-align: middle;\n",
       "    }\n",
       "\n",
       "    .dataframe tbody tr th {\n",
       "        vertical-align: top;\n",
       "    }\n",
       "\n",
       "    .dataframe thead th {\n",
       "        text-align: right;\n",
       "    }\n",
       "</style>\n",
       "<table border=\"1\" class=\"dataframe\">\n",
       "  <thead>\n",
       "    <tr style=\"text-align: right;\">\n",
       "      <th></th>\n",
       "      <th>gene_id</th>\n",
       "      <th>seq</th>\n",
       "      <th>gc</th>\n",
       "      <th>fickett</th>\n",
       "      <th>target</th>\n",
       "    </tr>\n",
       "  </thead>\n",
       "  <tbody>\n",
       "    <tr>\n",
       "      <th>0</th>\n",
       "      <td>ENSG00000236052.1.2</td>\n",
       "      <td>CTTCAGCAGTGCCCAGTGTTGCCAGGTGTGTGTTGTGTTGTGCTGT...</td>\n",
       "      <td>0.55</td>\n",
       "      <td>0.6362</td>\n",
       "      <td>sno</td>\n",
       "    </tr>\n",
       "    <tr>\n",
       "      <th>1</th>\n",
       "      <td>SNHG14.76</td>\n",
       "      <td>TGAGCCCTGTTCTCCCCTTGTGTCTTTCAGTGAGCTCTTCCACCAA...</td>\n",
       "      <td>0.57</td>\n",
       "      <td>0.8715</td>\n",
       "      <td>sno</td>\n",
       "    </tr>\n",
       "    <tr>\n",
       "      <th>2</th>\n",
       "      <td>ENSG00000249335.1.2</td>\n",
       "      <td>GAGAAATAGAAAGTGATGACATTAGTTGCCTCTGGGGAGAGGAACT...</td>\n",
       "      <td>0.38</td>\n",
       "      <td>0.7836</td>\n",
       "      <td>sno</td>\n",
       "    </tr>\n",
       "    <tr>\n",
       "      <th>3</th>\n",
       "      <td>ENSG00000250546.5.4</td>\n",
       "      <td>GAGGCCAAGGCAGGAGAACCACTTGAACCCAGGAGGTGGAGGTTGC...</td>\n",
       "      <td>0.60</td>\n",
       "      <td>0.5315</td>\n",
       "      <td>sno</td>\n",
       "    </tr>\n",
       "    <tr>\n",
       "      <th>4</th>\n",
       "      <td>SNHG14.69</td>\n",
       "      <td>TTACTTTTTTAGGAATAACACCCATGAGATACAGTTCTCATCTACT...</td>\n",
       "      <td>0.41</td>\n",
       "      <td>0.7502</td>\n",
       "      <td>sno</td>\n",
       "    </tr>\n",
       "  </tbody>\n",
       "</table>\n",
       "</div>"
      ],
      "text/plain": [
       "               gene_id                                                seq  \\\n",
       "0  ENSG00000236052.1.2  CTTCAGCAGTGCCCAGTGTTGCCAGGTGTGTGTTGTGTTGTGCTGT...   \n",
       "1            SNHG14.76  TGAGCCCTGTTCTCCCCTTGTGTCTTTCAGTGAGCTCTTCCACCAA...   \n",
       "2  ENSG00000249335.1.2  GAGAAATAGAAAGTGATGACATTAGTTGCCTCTGGGGAGAGGAACT...   \n",
       "3  ENSG00000250546.5.4  GAGGCCAAGGCAGGAGAACCACTTGAACCCAGGAGGTGGAGGTTGC...   \n",
       "4            SNHG14.69  TTACTTTTTTAGGAATAACACCCATGAGATACAGTTCTCATCTACT...   \n",
       "\n",
       "     gc  fickett target  \n",
       "0  0.55   0.6362    sno  \n",
       "1  0.57   0.8715    sno  \n",
       "2  0.38   0.7836    sno  \n",
       "3  0.60   0.5315    sno  \n",
       "4  0.41   0.7502    sno  "
      ]
     },
     "execution_count": 40,
     "metadata": {},
     "output_type": "execute_result"
    }
   ],
   "source": [
    "flanks_down.head()"
   ]
  },
  {
   "cell_type": "markdown",
   "metadata": {},
   "source": [
    "kmer weights are calculated and saved in tuples for every kmer-sequence combination a tuple is created where\n",
    "\n",
    "`key`: if the kmer is present in the sequence or not, [1,0]\n",
    "\n",
    "`weight`: the normalized kmer weight\n",
    "\n",
    "`frequency`: times the kmer occurs"
   ]
  },
  {
   "cell_type": "code",
   "execution_count": 41,
   "metadata": {},
   "outputs": [],
   "source": [
    "#a multilabel binarizer is employed to create a feature from each of the tuple elements\n",
    "cmlb=pd.read_hdf(\"fs1/cmlb5\", key=\"mlb\")"
   ]
  },
  {
   "cell_type": "code",
   "execution_count": 42,
   "metadata": {},
   "outputs": [],
   "source": [
    "#the final training set is created combining all the features\n",
    "features_combined = pd.concat([flanks_down, cmlb], axis=1, copy=False)"
   ]
  },
  {
   "cell_type": "code",
   "execution_count": 43,
   "metadata": {},
   "outputs": [
    {
     "name": "stdout",
     "output_type": "stream",
     "text": [
      "(414, 1)\n",
      "(414, 222)\n",
      "(1656, 1)\n",
      "(1656, 222)\n",
      "(1656,)\n",
      "(414,)\n",
      "(1656, 222)\n",
      "(414, 222)\n"
     ]
    }
   ],
   "source": [
    "#we split the training set 80-20 for the classifier to train on\n",
    "\n",
    "features_combined.drop(['gene_id'], 1, inplace=True)\n",
    "\n",
    "#for phatscons/fs3\n",
    "#val = {'cons_1':0, 'cons_2':0, 'cons_3':0, 'cons_4':0, 'cons_5':0, 'cons_6':0, \n",
    "#'cons_7':0, 'cons_8':0, 'cons_9':0, 'cons_10':0, 'cons_11':0, 'cons_12':0, 'cons_13':0, \n",
    "#'cons_14':0, 'cons_15':0, 'cons_16':0, 'cons_17':0, 'cons_18':0, 'cons_19':0, 'cons_20':0}\n",
    "#features_combined_3.fillna(value=val, inplace=True)\n",
    "\n",
    "\n",
    "ncrna_train, ncrna_test = train_test_split(features_combined, test_size=0.2, random_state=42)\n",
    "\n",
    "ncrna_test_target=ncrna_test[[\"target\"]]\n",
    "ncrna_test=ncrna_test.drop([\"target\"],1)\n",
    "print (ncrna_test_target.shape)\n",
    "print (ncrna_test.shape)\n",
    "\n",
    "ncrna_train_target=ncrna_train[[\"target\"]]\n",
    "ncrna_train=ncrna_train.drop([\"target\"],1)\n",
    "print (ncrna_train_target.shape)\n",
    "print (ncrna_train.shape)\n",
    "\n",
    "#separating numerical features and categorical features\n",
    "num_feat=[]\n",
    "for x in ncrna_train.columns[1:]:\n",
    "    num_feat.append(x)\n",
    "\n",
    "cat_feat = [\"seq\"]\n",
    "\n",
    "#encoding the sequence feature\n",
    "#scaling the rest of the features\n",
    "#and creating a ColumnTransformer object\n",
    "cct = ColumnTransformer([\n",
    "    ('oe', OrdinalEncoder(), cat_feat),\n",
    "    ('num', StandardScaler(), num_feat)\n",
    "    ], remainder='passthrough')\n",
    "\n",
    "#fitting the split training set and test set\n",
    "X_train = cct.fit_transform(ncrna_train)\n",
    "X_test = cct.fit_transform(ncrna_test)\n",
    "\n",
    "#encoding the target labels\n",
    "ordinal = OrdinalEncoder()\n",
    "y_train = ordinal.fit_transform(ncrna_train_target)\n",
    "y_test = ordinal.fit_transform(ncrna_test_target)\n",
    "\n",
    "y_train = np.ravel(y_train)\n",
    "y_test = np.ravel(y_test)\n",
    "\n",
    "print (y_train.shape)\n",
    "print (y_test.shape)\n",
    "\n",
    "print (X_train.shape)\n",
    "print (X_test.shape)"
   ]
  },
  {
   "cell_type": "code",
   "execution_count": 44,
   "metadata": {},
   "outputs": [
    {
     "name": "stdout",
     "output_type": "stream",
     "text": [
      "accuracy: 0.3888888888888889\n"
     ]
    }
   ],
   "source": [
    "#training the random forest classifier with default params\n",
    "rnd_clf = RandomForestClassifier(n_estimators=100, n_jobs=-1, random_state=42)\n",
    "rnd_clf.fit(X_train, y_train)\n",
    "y_pred = rnd_clf.predict(X_test)\n",
    "print (f'accuracy: {accuracy_score(y_test, y_pred)}')"
   ]
  },
  {
   "cell_type": "code",
   "execution_count": 45,
   "metadata": {},
   "outputs": [
    {
     "name": "stdout",
     "output_type": "stream",
     "text": [
      "Fitting 10 folds for each of 16 candidates, totalling 160 fits\n"
     ]
    },
    {
     "name": "stderr",
     "output_type": "stream",
     "text": [
      "[Parallel(n_jobs=-1)]: Using backend LokyBackend with 8 concurrent workers.\n",
      "[Parallel(n_jobs=-1)]: Done  34 tasks      | elapsed:    5.6s\n",
      "[Parallel(n_jobs=-1)]: Done 160 out of 160 | elapsed:  1.3min finished\n"
     ]
    },
    {
     "name": "stdout",
     "output_type": "stream",
     "text": [
      "Grid search cv10 best score: 0.40694779116465857\n"
     ]
    }
   ],
   "source": [
    "#grid search with 10-fold cv\n",
    "param_grid = {'oob_score': [True, False], 'bootstrap':[True],\n",
    "              'criterion': [\"gini\", \"entropy\"], 'n_estimators':[100,300,500,1000]}\n",
    "grid_search_def10 = GridSearchCV(RandomForestClassifier(random_state=42),\n",
    "    param_grid, scoring=\"accuracy\", n_jobs=-1, verbose=1, cv=10)\n",
    "grid_search_def10.fit(X_train, y_train)\n",
    "\n",
    "print (f\"Grid search cv10 best score: {grid_search_def10.best_score_}\")"
   ]
  },
  {
   "cell_type": "code",
   "execution_count": 46,
   "metadata": {},
   "outputs": [
    {
     "name": "stdout",
     "output_type": "stream",
     "text": [
      "Fitting 5 folds for each of 16 candidates, totalling 80 fits\n"
     ]
    },
    {
     "name": "stderr",
     "output_type": "stream",
     "text": [
      "[Parallel(n_jobs=-1)]: Using backend LokyBackend with 8 concurrent workers.\n",
      "[Parallel(n_jobs=-1)]: Done  34 tasks      | elapsed:   11.6s\n",
      "[Parallel(n_jobs=-1)]: Done  80 out of  80 | elapsed:   35.5s finished\n"
     ]
    },
    {
     "name": "stdout",
     "output_type": "stream",
     "text": [
      "Grid search cv5 best score: 0.40337604193207877\n"
     ]
    }
   ],
   "source": [
    "#grid search with 5-fold cv starts\n",
    "param_grid = {'oob_score': [True, False], 'bootstrap': [True],\n",
    "              'criterion': [\"gini\", \"entropy\"], 'n_estimators':[100,300,500,1000]}\n",
    "grid_search_def5 = GridSearchCV(RandomForestClassifier(random_state=42),\n",
    "    param_grid, scoring=\"accuracy\", n_jobs=-1, verbose=1, cv=5)\n",
    "grid_search_def5.fit(X_train, y_train)\n",
    "\n",
    "print (f\"Grid search cv5 best score: {grid_search_def5.best_score_}\")"
   ]
  },
  {
   "cell_type": "code",
   "execution_count": 47,
   "metadata": {},
   "outputs": [
    {
     "name": "stdout",
     "output_type": "stream",
     "text": [
      "Grid search accuracy best params: {'bootstrap': True, 'criterion': 'entropy', 'n_estimators': 300, 'oob_score': True}\n"
     ]
    }
   ],
   "source": [
    "#model 1 is the best estimator from the grid search with 10-fold cv\n",
    "#best parameters\n",
    "best_params = grid_search_def10.best_params_\n",
    "print (f\"Grid search accuracy best params: {best_params}\")"
   ]
  },
  {
   "cell_type": "code",
   "execution_count": 48,
   "metadata": {},
   "outputs": [
    {
     "name": "stdout",
     "output_type": "stream",
     "text": [
      "Grid search accuracy best params: {'bootstrap': True, 'criterion': 'entropy', 'n_estimators': 500, 'oob_score': True}\n"
     ]
    }
   ],
   "source": [
    "#model 2 is the best estimator from the grid search with 5-fold cv\n",
    "best_params = grid_search_def5.best_params_\n",
    "print (f\"Grid search accuracy best params: {best_params}\")"
   ]
  },
  {
   "cell_type": "code",
   "execution_count": 49,
   "metadata": {},
   "outputs": [
    {
     "name": "stdout",
     "output_type": "stream",
     "text": [
      "0.3888888888888889\n"
     ]
    }
   ],
   "source": [
    "#original model \n",
    "y_pred_orig = rnd_clf.predict(X_test)\n",
    "print (accuracy_score(y_test, y_pred_orig))"
   ]
  },
  {
   "cell_type": "code",
   "execution_count": 50,
   "metadata": {},
   "outputs": [
    {
     "name": "stdout",
     "output_type": "stream",
     "text": [
      "              precision    recall  f1-score   support\n",
      "\n",
      "         0.0       0.35      0.32      0.33       142\n",
      "         1.0       0.38      0.50      0.43       127\n",
      "         2.0       0.45      0.37      0.40       145\n",
      "\n",
      "    accuracy                           0.39       414\n",
      "   macro avg       0.39      0.39      0.39       414\n",
      "weighted avg       0.39      0.39      0.39       414\n",
      "\n"
     ]
    },
    {
     "data": {
      "text/plain": [
       "array([[45, 62, 35],\n",
       "       [34, 63, 30],\n",
       "       [50, 42, 53]])"
      ]
     },
     "execution_count": 50,
     "metadata": {},
     "output_type": "execute_result"
    },
    {
     "data": {
      "image/png": "[encoded data removed]",
      "text/plain": [
       "<Figure size 432x288 with 2 Axes>"
      ]
     },
     "metadata": {
      "needs_background": "light"
     },
     "output_type": "display_data"
    }
   ],
   "source": [
    "#classification matrix for the original model\n",
    "print(classification_report(y_test, y_pred))\n",
    "\n",
    "#path = \"fs1/w_fickett/results\"\n",
    "#if not os.path.isdir(join(path)):\n",
    "#    os.makedirs(join(path))\n",
    "#plt.savefig(join(path,\"feat_imp.png\"))\n",
    "\n",
    "disp = plot_confusion_matrix(rnd_clf, X_test, y_test,\n",
    "                                     display_labels=[\"lnc\",\"mir\",\"sno\"],\n",
    "                                     cmap=plt.cm.Blues)\n",
    "disp.ax_.set_title('feature set #1 with fickett score')\n",
    "disp.confusion_matrix\n",
    "#plt.savefig(join(path,\"conf_mat.png\"))"
   ]
  },
  {
   "cell_type": "code",
   "execution_count": 51,
   "metadata": {},
   "outputs": [
    {
     "data": {
      "text/plain": [
       "<matplotlib.axes._subplots.AxesSubplot at 0x7f6f4a3f8970>"
      ]
     },
     "execution_count": 51,
     "metadata": {},
     "output_type": "execute_result"
    },
    {
     "data": {
      "image/png": "[encoded data removed]",
      "text/plain": [
       "<Figure size 1440x720 with 1 Axes>"
      ]
     },
     "metadata": {
      "needs_background": "light"
     },
     "output_type": "display_data"
    }
   ],
   "source": [
    "#feature importances\n",
    "feat_imp = rnd_clf.feature_importances_\n",
    "importances = pd.Series(feat_imp, index=features_combined.drop([\"target\"],1).columns)\n",
    "importances.nlargest(10).plot(kind=\"barh\",figsize=(20,10))"
   ]
  },
  {
   "cell_type": "markdown",
   "metadata": {},
   "source": [
    "## Next follows the unsupervised learning on DS-2.\n",
    "\n",
    "***k-means clustering of the three RNA classes and PCA with two components.***"
   ]
  },
  {
   "cell_type": "code",
   "execution_count": 52,
   "metadata": {
    "scrolled": true
   },
   "outputs": [
    {
     "name": "stdout",
     "output_type": "stream",
     "text": [
      "number of iterations : 18\n",
      "\n",
      "predicted classes on the training set: Counter({0: 555, 1: 554, 2: 547})\n",
      "\n",
      "actual classes on the trainig set: Counter({1.0: 563, 0.0: 548, 2.0: 545})\n",
      "\n",
      "accuracy training set: 0.3496376811594203\n",
      "\n",
      "number of correctly classified samples: 579\n",
      "\n",
      "predicted classes on the test set: Counter({0: 414})\n",
      "\n",
      "actual classes on the test set: Counter({2.0: 145, 0.0: 142, 1.0: 127})\n",
      "\n",
      "accuracy test set: 0.34299516908212563\n"
     ]
    }
   ],
   "source": [
    "#k-means clustering of the three classes\n",
    "km = KMeans (n_clusters=3, init=\"k-means++\", random_state=42).fit(X_train)\n",
    "\n",
    "y = km.predict(X_test)\n",
    "\n",
    "print (f'number of iterations : {km.n_iter_}\\n')\n",
    "\n",
    "#labels : {0: lnc, 1: mir, 2:sno}\n",
    "#training set\n",
    "print(f'predicted classes on the training set: {Counter(km.labels_)}\\n')\n",
    "print(f'actual classes on the trainig set: {Counter(y_train)}\\n')\n",
    "print(f'accuracy training set: {accuracy_score(y_train, km.labels_)}\\n')\n",
    "print(f'number of correctly classified samples: {accuracy_score(y_train, km.labels_, normalize=False)}\\n')\n",
    "\n",
    "#test set\n",
    "print(f'predicted classes on the test set: {Counter(y)}\\n')\n",
    "print(f'actual classes on the test set: {Counter(y_test)}\\n') \n",
    "print(f'accuracy test set: {accuracy_score(y_test, y)}')"
   ]
  },
  {
   "cell_type": "code",
   "execution_count": 53,
   "metadata": {},
   "outputs": [
    {
     "name": "stdout",
     "output_type": "stream",
     "text": [
      "explained variance ratio: [9.99050170e-01 4.03218651e-05]\n",
      "n_compponents: 2\n",
      "features: 222\n",
      "samples: 1656\n"
     ]
    },
    {
     "data": {
      "text/plain": [
       "<matplotlib.legend.Legend at 0x7f6f4a34b850>"
      ]
     },
     "execution_count": 53,
     "metadata": {},
     "output_type": "execute_result"
    },
    {
     "data": {
      "image/png": "[encoded data removed]",
      "text/plain": [
       "<Figure size 576x216 with 1 Axes>"
      ]
     },
     "metadata": {
      "needs_background": "light"
     },
     "output_type": "display_data"
    }
   ],
   "source": [
    "#pca\n",
    "p = PCA(n_components=2, random_state=42)\n",
    "\n",
    "X= p.fit_transform(X_train)\n",
    "\n",
    "print(f'explained variance ratio: {p.explained_variance_ratio_}')\n",
    "print(f'n_compponents: {p.n_components_}')\n",
    "print(f'features: {p.n_features_}')\n",
    "print(f'samples: {p.n_samples_}')\n",
    "\n",
    "fig = plt.figure(figsize=(8,3))\n",
    "colours = ['navy', 'turquoise', 'darkorange']\n",
    "targets = ['lnc', 'mir', 'sno']\n",
    "lw=2\n",
    "for colour, i, target_name in zip(colours, [0, 1, 2], targets):\n",
    "    plt.scatter(X[y_train == i, 0], X[y_train == i, 1], color=colour, alpha=.8, #lw=lw,\n",
    "                label=target_name)\n",
    "plt.legend(loc='best', shadow=False, scatterpoints=1)"
   ]
  },
  {
   "cell_type": "markdown",
   "metadata": {},
   "source": [
    "### End of training on DS-2"
   ]
  },
  {
   "cell_type": "markdown",
   "metadata": {},
   "source": [
    "## Dataset 3 unsupervised"
   ]
  },
  {
   "cell_type": "code",
   "execution_count": 54,
   "metadata": {},
   "outputs": [],
   "source": [
    "os.chdir(\"../training_3\")\n",
    "#dataset 3 contains 100 nt sequences from up and downstream exons\n",
    "#there are 464 MIRHGs and 1287 SNOHGs; to balance the dataset has been downsampled to 464 samples for each class\n",
    "\n",
    "#each folder contains three directories fs[1,3] for the three feature sets\n",
    "#which can be used to load the respective files to execute the training process"
   ]
  },
  {
   "cell_type": "code",
   "execution_count": 55,
   "metadata": {},
   "outputs": [],
   "source": [
    "#the balanced dataset is loaded from each feature set-fickett score combination\n",
    "flanks_down = pd.read_csv(\"fs1/w_fickett/down_fickett\", index_col=0)\n",
    "#for fs1\n",
    "#w_fickett/down_fickett -> with fickett\n",
    "#wo_fickett/down_no_fickett -> without fickett\n",
    "\n",
    "#for fs2\n",
    "#w_fickett/down_pp_fickett -> with fickett\n",
    "#wo_fickett/down_pp_no_fickett -> without fickett\n",
    "\n",
    "#for fs3\n",
    "#w_fickett/down_cons_fickett -> with fickett\n",
    "#wo_fickett/down_cons_no_fickett -> without fickett"
   ]
  },
  {
   "cell_type": "code",
   "execution_count": 56,
   "metadata": {},
   "outputs": [
    {
     "name": "stdout",
     "output_type": "stream",
     "text": [
      "<class 'pandas.core.frame.DataFrame'>\n",
      "Int64Index: 1392 entries, 0 to 1391\n",
      "Data columns (total 5 columns):\n",
      " #   Column   Non-Null Count  Dtype  \n",
      "---  ------   --------------  -----  \n",
      " 0   gene_id  1392 non-null   object \n",
      " 1   seq      1392 non-null   object \n",
      " 2   gc       1392 non-null   float64\n",
      " 3   fickett  1392 non-null   float64\n",
      " 4   target   1392 non-null   object \n",
      "dtypes: float64(2), object(3)\n",
      "memory usage: 65.2+ KB\n"
     ]
    }
   ],
   "source": [
    "flanks_down.info()"
   ]
  },
  {
   "cell_type": "code",
   "execution_count": 57,
   "metadata": {},
   "outputs": [
    {
     "data": {
      "text/html": [
       "<div>\n",
       "<style scoped>\n",
       "    .dataframe tbody tr th:only-of-type {\n",
       "        vertical-align: middle;\n",
       "    }\n",
       "\n",
       "    .dataframe tbody tr th {\n",
       "        vertical-align: top;\n",
       "    }\n",
       "\n",
       "    .dataframe thead th {\n",
       "        text-align: right;\n",
       "    }\n",
       "</style>\n",
       "<table border=\"1\" class=\"dataframe\">\n",
       "  <thead>\n",
       "    <tr style=\"text-align: right;\">\n",
       "      <th></th>\n",
       "      <th>gene_id</th>\n",
       "      <th>seq</th>\n",
       "      <th>gc</th>\n",
       "      <th>fickett</th>\n",
       "      <th>target</th>\n",
       "    </tr>\n",
       "  </thead>\n",
       "  <tbody>\n",
       "    <tr>\n",
       "      <th>0</th>\n",
       "      <td>ENSG00000225746.12.101</td>\n",
       "      <td>GTTTTCATGTTTATGAATTTTTATTTTACATTTATGATTGGCTCAA...</td>\n",
       "      <td>0.29</td>\n",
       "      <td>0.7132</td>\n",
       "      <td>sno</td>\n",
       "    </tr>\n",
       "    <tr>\n",
       "      <th>1</th>\n",
       "      <td>ENSG00000224078.15.360</td>\n",
       "      <td>CGGCCTTACTTTTTATTTTCAATTAAGTGAAACAATTACATGGAAA...</td>\n",
       "      <td>0.26</td>\n",
       "      <td>0.6176</td>\n",
       "      <td>sno</td>\n",
       "    </tr>\n",
       "    <tr>\n",
       "      <th>2</th>\n",
       "      <td>ENSG00000225746.12.0</td>\n",
       "      <td>CTGCTTTGTATTCCTCAGAATGAACAGCCCCATCTGATTTAATCAC...</td>\n",
       "      <td>0.45</td>\n",
       "      <td>0.7932</td>\n",
       "      <td>sno</td>\n",
       "    </tr>\n",
       "    <tr>\n",
       "      <th>3</th>\n",
       "      <td>ENSG00000224078.15.142</td>\n",
       "      <td>AAGTGAGATTTGTGTATGGTAAATATAATTAATTCAACCCCATGGA...</td>\n",
       "      <td>0.40</td>\n",
       "      <td>0.9823</td>\n",
       "      <td>sno</td>\n",
       "    </tr>\n",
       "    <tr>\n",
       "      <th>4</th>\n",
       "      <td>ENSG00000224078.15.646</td>\n",
       "      <td>AATCATGCTCAATAGGATTACGCTGAGGCCCAGTCTAGGTGAGAGT...</td>\n",
       "      <td>0.48</td>\n",
       "      <td>0.6644</td>\n",
       "      <td>sno</td>\n",
       "    </tr>\n",
       "  </tbody>\n",
       "</table>\n",
       "</div>"
      ],
      "text/plain": [
       "                  gene_id                                                seq  \\\n",
       "0  ENSG00000225746.12.101  GTTTTCATGTTTATGAATTTTTATTTTACATTTATGATTGGCTCAA...   \n",
       "1  ENSG00000224078.15.360  CGGCCTTACTTTTTATTTTCAATTAAGTGAAACAATTACATGGAAA...   \n",
       "2    ENSG00000225746.12.0  CTGCTTTGTATTCCTCAGAATGAACAGCCCCATCTGATTTAATCAC...   \n",
       "3  ENSG00000224078.15.142  AAGTGAGATTTGTGTATGGTAAATATAATTAATTCAACCCCATGGA...   \n",
       "4  ENSG00000224078.15.646  AATCATGCTCAATAGGATTACGCTGAGGCCCAGTCTAGGTGAGAGT...   \n",
       "\n",
       "     gc  fickett target  \n",
       "0  0.29   0.7132    sno  \n",
       "1  0.26   0.6176    sno  \n",
       "2  0.45   0.7932    sno  \n",
       "3  0.40   0.9823    sno  \n",
       "4  0.48   0.6644    sno  "
      ]
     },
     "execution_count": 57,
     "metadata": {},
     "output_type": "execute_result"
    }
   ],
   "source": [
    "flanks_down.head()"
   ]
  },
  {
   "cell_type": "markdown",
   "metadata": {},
   "source": [
    "kmer weights are calculated and saved in tuples for every kmer-sequence combination a tuple is created where\n",
    "\n",
    "`key`: if the kmer is present in the sequence or not, [1,0]\n",
    "\n",
    "`weight`: the normalized kmer weight\n",
    "\n",
    "`frequency`: times the kmer occurs"
   ]
  },
  {
   "cell_type": "code",
   "execution_count": 58,
   "metadata": {},
   "outputs": [],
   "source": [
    "#a multilabel binarizer is employed to create a feature from each of the tuple elements\n",
    "cmlb=pd.read_hdf(\"fs1/cmlb5\", key=\"mlb\")"
   ]
  },
  {
   "cell_type": "code",
   "execution_count": 59,
   "metadata": {},
   "outputs": [],
   "source": [
    "#the final training set is created combining all the features\n",
    "features_combined = pd.concat([flanks_down, cmlb], axis=1, copy=False)"
   ]
  },
  {
   "cell_type": "code",
   "execution_count": 60,
   "metadata": {},
   "outputs": [
    {
     "name": "stdout",
     "output_type": "stream",
     "text": [
      "(279, 1)\n",
      "(279, 222)\n",
      "(1113, 1)\n",
      "(1113, 222)\n",
      "(1113,)\n",
      "(279,)\n",
      "(1113, 222)\n",
      "(279, 222)\n"
     ]
    }
   ],
   "source": [
    "#we split the training set 80-20 for the classifier to train on\n",
    "\n",
    "features_combined.drop(['gene_id'], 1, inplace=True)\n",
    "\n",
    "#for phatscons/fs3\n",
    "#val = {'cons_1':0, 'cons_2':0, 'cons_3':0, 'cons_4':0, 'cons_5':0, 'cons_6':0, \n",
    "#'cons_7':0, 'cons_8':0, 'cons_9':0, 'cons_10':0, 'cons_11':0, 'cons_12':0, 'cons_13':0, \n",
    "#'cons_14':0, 'cons_15':0, 'cons_16':0, 'cons_17':0, 'cons_18':0, 'cons_19':0, 'cons_20':0}\n",
    "#features_combined_3.fillna(value=val, inplace=True)\n",
    "\n",
    "\n",
    "ncrna_train, ncrna_test = train_test_split(features_combined, test_size=0.2, random_state=42)\n",
    "\n",
    "ncrna_test_target=ncrna_test[[\"target\"]]\n",
    "ncrna_test=ncrna_test.drop([\"target\"],1)\n",
    "print (ncrna_test_target.shape)\n",
    "print (ncrna_test.shape)\n",
    "\n",
    "ncrna_train_target=ncrna_train[[\"target\"]]\n",
    "ncrna_train=ncrna_train.drop([\"target\"],1)\n",
    "print (ncrna_train_target.shape)\n",
    "print (ncrna_train.shape)\n",
    "\n",
    "#separating numerical features and categorical features\n",
    "num_feat=[]\n",
    "for x in ncrna_train.columns[1:]:\n",
    "    num_feat.append(x)\n",
    "\n",
    "cat_feat = [\"seq\"]\n",
    "\n",
    "#encoding the sequence feature\n",
    "#scaling the rest of the features\n",
    "#and creating a ColumnTransformer object\n",
    "cct = ColumnTransformer([\n",
    "    ('oe', OrdinalEncoder(), cat_feat),\n",
    "    ('num', StandardScaler(), num_feat)\n",
    "    ], remainder='passthrough')\n",
    "\n",
    "#fitting the split training set and test set\n",
    "X_train = cct.fit_transform(ncrna_train)\n",
    "X_test = cct.fit_transform(ncrna_test)\n",
    "\n",
    "#encoding the target labels\n",
    "ordinal = OrdinalEncoder()\n",
    "y_train = ordinal.fit_transform(ncrna_train_target)\n",
    "y_test = ordinal.fit_transform(ncrna_test_target)\n",
    "\n",
    "y_train = np.ravel(y_train)\n",
    "y_test = np.ravel(y_test)\n",
    "\n",
    "print (y_train.shape)\n",
    "print (y_test.shape)\n",
    "\n",
    "print (X_train.shape)\n",
    "print (X_test.shape)"
   ]
  },
  {
   "cell_type": "code",
   "execution_count": 61,
   "metadata": {},
   "outputs": [
    {
     "name": "stdout",
     "output_type": "stream",
     "text": [
      "accuracy: 0.6236559139784946\n"
     ]
    }
   ],
   "source": [
    "#training the random forest classifier with default params\n",
    "rnd_clf = RandomForestClassifier(n_estimators=100, n_jobs=-1, random_state=42)\n",
    "rnd_clf.fit(X_train, y_train)\n",
    "y_pred = rnd_clf.predict(X_test)\n",
    "print (f'accuracy: {accuracy_score(y_test, y_pred)}')"
   ]
  },
  {
   "cell_type": "code",
   "execution_count": 62,
   "metadata": {},
   "outputs": [
    {
     "name": "stdout",
     "output_type": "stream",
     "text": [
      "Fitting 10 folds for each of 16 candidates, totalling 160 fits\n"
     ]
    },
    {
     "name": "stderr",
     "output_type": "stream",
     "text": [
      "[Parallel(n_jobs=-1)]: Using backend LokyBackend with 8 concurrent workers.\n",
      "[Parallel(n_jobs=-1)]: Done  34 tasks      | elapsed:    3.5s\n",
      "[Parallel(n_jobs=-1)]: Done 160 out of 160 | elapsed:   53.3s finished\n"
     ]
    },
    {
     "name": "stdout",
     "output_type": "stream",
     "text": [
      "Grid search cv10 best score: 0.6846846846846847\n"
     ]
    }
   ],
   "source": [
    "#grid search with 10-fold cv\n",
    "param_grid = {'oob_score': [True, False], 'bootstrap':[True],\n",
    "              'criterion': [\"gini\", \"entropy\"], 'n_estimators':[100,300,500,1000]}\n",
    "grid_search_def10 = GridSearchCV(RandomForestClassifier(random_state=42),\n",
    "    param_grid, scoring=\"accuracy\", n_jobs=-1, verbose=1, cv=10)\n",
    "grid_search_def10.fit(X_train, y_train)\n",
    "\n",
    "print (f\"Grid search cv10 best score: {grid_search_def10.best_score_}\")"
   ]
  },
  {
   "cell_type": "code",
   "execution_count": 63,
   "metadata": {},
   "outputs": [
    {
     "name": "stdout",
     "output_type": "stream",
     "text": [
      "Fitting 5 folds for each of 16 candidates, totalling 80 fits\n"
     ]
    },
    {
     "name": "stderr",
     "output_type": "stream",
     "text": [
      "[Parallel(n_jobs=-1)]: Using backend LokyBackend with 8 concurrent workers.\n",
      "[Parallel(n_jobs=-1)]: Done  34 tasks      | elapsed:   11.5s\n",
      "[Parallel(n_jobs=-1)]: Done  80 out of  80 | elapsed:   28.0s finished\n"
     ]
    },
    {
     "name": "stdout",
     "output_type": "stream",
     "text": [
      "Grid search cv5 best score: 0.6909546317618067\n"
     ]
    }
   ],
   "source": [
    "#grid search with 5-fold cv starts\n",
    "param_grid = {'oob_score': [True, False], 'bootstrap': [True],\n",
    "              'criterion': [\"gini\", \"entropy\"], 'n_estimators':[100,300,500,1000]}\n",
    "grid_search_def5 = GridSearchCV(RandomForestClassifier(random_state=42),\n",
    "    param_grid, scoring=\"accuracy\", n_jobs=-1, verbose=1, cv=5)\n",
    "grid_search_def5.fit(X_train, y_train)\n",
    "\n",
    "print (f\"Grid search cv5 best score: {grid_search_def5.best_score_}\")"
   ]
  },
  {
   "cell_type": "code",
   "execution_count": 64,
   "metadata": {},
   "outputs": [
    {
     "name": "stdout",
     "output_type": "stream",
     "text": [
      "Grid search accuracy best params: {'bootstrap': True, 'criterion': 'entropy', 'n_estimators': 100, 'oob_score': True}\n"
     ]
    }
   ],
   "source": [
    "#model 1 is the best estimator from the grid search with 10-fold cv\n",
    "#best parameters\n",
    "best_params = grid_search_def10.best_params_\n",
    "print (f\"Grid search accuracy best params: {best_params}\")"
   ]
  },
  {
   "cell_type": "code",
   "execution_count": 65,
   "metadata": {},
   "outputs": [
    {
     "name": "stdout",
     "output_type": "stream",
     "text": [
      "Grid search accuracy best params: {'bootstrap': True, 'criterion': 'entropy', 'n_estimators': 500, 'oob_score': True}\n"
     ]
    }
   ],
   "source": [
    "#model 2 is the best estimator from the grid search with 5-fold cv\n",
    "best_params = grid_search_def5.best_params_\n",
    "print (f\"Grid search accuracy best params: {best_params}\")"
   ]
  },
  {
   "cell_type": "code",
   "execution_count": 66,
   "metadata": {},
   "outputs": [
    {
     "name": "stdout",
     "output_type": "stream",
     "text": [
      "0.6236559139784946\n"
     ]
    }
   ],
   "source": [
    "#original model \n",
    "y_pred_orig = rnd_clf.predict(X_test)\n",
    "print (accuracy_score(y_test, y_pred_orig))"
   ]
  },
  {
   "cell_type": "code",
   "execution_count": 67,
   "metadata": {},
   "outputs": [
    {
     "name": "stdout",
     "output_type": "stream",
     "text": [
      "              precision    recall  f1-score   support\n",
      "\n",
      "         0.0       0.63      1.00      0.78        93\n",
      "         1.0       0.64      0.46      0.54        91\n",
      "         2.0       0.59      0.41      0.48        95\n",
      "\n",
      "    accuracy                           0.62       279\n",
      "   macro avg       0.62      0.62      0.60       279\n",
      "weighted avg       0.62      0.62      0.60       279\n",
      "\n"
     ]
    },
    {
     "data": {
      "text/plain": [
       "array([[93,  0,  0],\n",
       "       [22, 42, 27],\n",
       "       [32, 24, 39]])"
      ]
     },
     "execution_count": 67,
     "metadata": {},
     "output_type": "execute_result"
    },
    {
     "data": {
      "image/png": "[encoded data removed]",
      "text/plain": [
       "<Figure size 432x288 with 2 Axes>"
      ]
     },
     "metadata": {
      "needs_background": "light"
     },
     "output_type": "display_data"
    }
   ],
   "source": [
    "#classification matrix for the original model\n",
    "print(classification_report(y_test, y_pred))\n",
    "\n",
    "#path = \"fs1/w_fickett/results\"\n",
    "#if not os.path.isdir(join(path)):\n",
    "#    os.makedirs(join(path))\n",
    "#plt.savefig(join(path,\"feat_imp.png\"))\n",
    "\n",
    "disp = plot_confusion_matrix(rnd_clf, X_test, y_test,\n",
    "                                     display_labels=[\"lnc\",\"mir\",\"sno\"],\n",
    "                                     cmap=plt.cm.Blues)\n",
    "disp.ax_.set_title('feature set #1 with fickett score')\n",
    "disp.confusion_matrix\n",
    "#plt.savefig(join(path,\"conf_mat.png\"))"
   ]
  },
  {
   "cell_type": "code",
   "execution_count": 68,
   "metadata": {},
   "outputs": [
    {
     "data": {
      "text/plain": [
       "<matplotlib.axes._subplots.AxesSubplot at 0x7f6f51674c10>"
      ]
     },
     "execution_count": 68,
     "metadata": {},
     "output_type": "execute_result"
    },
    {
     "data": {
      "image/png": "[encoded data removed]",
      "text/plain": [
       "<Figure size 1440x720 with 1 Axes>"
      ]
     },
     "metadata": {
      "needs_background": "light"
     },
     "output_type": "display_data"
    }
   ],
   "source": [
    "#feature importances\n",
    "feat_imp = rnd_clf.feature_importances_\n",
    "importances = pd.Series(feat_imp, index=features_combined.drop([\"target\"],1).columns)\n",
    "importances.nlargest(10).plot(kind=\"barh\",figsize=(20,10))"
   ]
  },
  {
   "cell_type": "markdown",
   "metadata": {},
   "source": [
    "### Unsupervised learning DS-3\n",
    "\n",
    "***k-means clustering of the three RNA classes and PCA with two components.***"
   ]
  },
  {
   "cell_type": "code",
   "execution_count": 69,
   "metadata": {
    "scrolled": true
   },
   "outputs": [
    {
     "name": "stdout",
     "output_type": "stream",
     "text": [
      "number of iterations : 19\n",
      "\n",
      "predicted classes on the training set: Counter({1: 372, 0: 371, 2: 370})\n",
      "\n",
      "actual classes on the trainig set: Counter({1.0: 373, 0.0: 371, 2.0: 369})\n",
      "\n",
      "accuracy training set: 0.35759209344115006\n",
      "\n",
      "number of correctly classified samples: 398\n",
      "\n",
      "predicted classes on the test set: Counter({2: 279})\n",
      "\n",
      "actual classes on the test set: Counter({2.0: 95, 0.0: 93, 1.0: 91})\n",
      "\n",
      "accuracy test set: 0.34050179211469533\n"
     ]
    }
   ],
   "source": [
    "#k-means clustering of the three classes\n",
    "km = KMeans (n_clusters=3, init=\"k-means++\", random_state=42).fit(X_train)\n",
    "\n",
    "y = km.predict(X_test)\n",
    "\n",
    "print (f'number of iterations : {km.n_iter_}\\n')\n",
    "\n",
    "#labels : {0: lnc, 1: mir, 2:sno}\n",
    "#training set\n",
    "print(f'predicted classes on the training set: {Counter(km.labels_)}\\n')\n",
    "print(f'actual classes on the trainig set: {Counter(y_train)}\\n')\n",
    "print(f'accuracy training set: {accuracy_score(y_train, km.labels_)}\\n')\n",
    "print(f'number of correctly classified samples: {accuracy_score(y_train, km.labels_, normalize=False)}\\n')\n",
    "\n",
    "#test set\n",
    "print(f'predicted classes on the test set: {Counter(y)}\\n')\n",
    "print(f'actual classes on the test set: {Counter(y_test)}\\n') \n",
    "print(f'accuracy test set: {accuracy_score(y_test, y)}')"
   ]
  },
  {
   "cell_type": "code",
   "execution_count": 70,
   "metadata": {},
   "outputs": [
    {
     "name": "stdout",
     "output_type": "stream",
     "text": [
      "explained variance ratio: [9.9807762e-01 1.4666543e-04]\n",
      "n_compponents: 2\n",
      "features: 222\n",
      "samples: 1113\n"
     ]
    },
    {
     "data": {
      "text/plain": [
       "<matplotlib.legend.Legend at 0x7f6f51664640>"
      ]
     },
     "execution_count": 70,
     "metadata": {},
     "output_type": "execute_result"
    },
    {
     "data": {
      "image/png": "[encoded data removed]",
      "text/plain": [
       "<Figure size 576x216 with 1 Axes>"
      ]
     },
     "metadata": {
      "needs_background": "light"
     },
     "output_type": "display_data"
    }
   ],
   "source": [
    "#pca\n",
    "p = PCA(n_components=2, random_state=42)\n",
    "\n",
    "X= p.fit_transform(X_train)\n",
    "\n",
    "print(f'explained variance ratio: {p.explained_variance_ratio_}')\n",
    "print(f'n_compponents: {p.n_components_}')\n",
    "print(f'features: {p.n_features_}')\n",
    "print(f'samples: {p.n_samples_}')\n",
    "\n",
    "fig = plt.figure(figsize=(8,3))\n",
    "colours = ['navy', 'turquoise', 'darkorange']\n",
    "targets = ['lnc', 'mir', 'sno']\n",
    "lw=2\n",
    "for colour, i, target_name in zip(colours, [0, 1, 2], targets):\n",
    "    plt.scatter(X[y_train == i, 0], X[y_train == i, 1], color=colour, alpha=.8, #lw=lw,\n",
    "                label=target_name)\n",
    "plt.legend(loc='best', shadow=False, scatterpoints=1)"
   ]
  },
  {
   "cell_type": "markdown",
   "metadata": {},
   "source": [
    "### End of training on DS-3"
   ]
  },
  {
   "cell_type": "markdown",
   "metadata": {},
   "source": [
    "## Dataset 4 unsupervised"
   ]
  },
  {
   "cell_type": "code",
   "execution_count": 71,
   "metadata": {},
   "outputs": [],
   "source": [
    "os.chdir(\"../training_4\")\n",
    "#dataset 4 contains 100 nt sequences from multiple, non-overlapping exons\n",
    "#there are 168 MIRHGs and 162 SNOHGs; to balance the dataset has been downsampled to 162 samples for each class\n",
    "\n",
    "#each folder contains three directories fs[1,3] for the three feature sets\n",
    "#which can be used to load the respective files to execute the training process"
   ]
  },
  {
   "cell_type": "code",
   "execution_count": 72,
   "metadata": {},
   "outputs": [],
   "source": [
    "#the balanced dataset is loaded from each feature set-fickett score combination\n",
    "flanks_down = pd.read_csv(\"fs1/w_fickett/down_fickett\", index_col=0)\n",
    "#for fs1\n",
    "#w_fickett/down_fickett -> with fickett\n",
    "#wo_fickett/down_no_fickett -> without fickett\n",
    "\n",
    "#for fs2\n",
    "#w_fickett/down_pp_fickett -> with fickett\n",
    "#wo_fickett/down_pp_no_fickett -> without fickett\n",
    "\n",
    "#for fs3\n",
    "#w_fickett/down_cons_fickett -> with fickett\n",
    "#wo_fickett/down_cons_no_fickett -> without fickett"
   ]
  },
  {
   "cell_type": "code",
   "execution_count": 73,
   "metadata": {},
   "outputs": [
    {
     "name": "stdout",
     "output_type": "stream",
     "text": [
      "<class 'pandas.core.frame.DataFrame'>\n",
      "Int64Index: 486 entries, 0 to 485\n",
      "Data columns (total 5 columns):\n",
      " #   Column   Non-Null Count  Dtype  \n",
      "---  ------   --------------  -----  \n",
      " 0   gene_id  486 non-null    object \n",
      " 1   seq      486 non-null    object \n",
      " 2   gc       486 non-null    float64\n",
      " 3   fickett  486 non-null    float64\n",
      " 4   target   486 non-null    object \n",
      "dtypes: float64(2), object(3)\n",
      "memory usage: 22.8+ KB\n"
     ]
    }
   ],
   "source": [
    "flanks_down.info()"
   ]
  },
  {
   "cell_type": "code",
   "execution_count": 74,
   "metadata": {},
   "outputs": [
    {
     "data": {
      "text/html": [
       "<div>\n",
       "<style scoped>\n",
       "    .dataframe tbody tr th:only-of-type {\n",
       "        vertical-align: middle;\n",
       "    }\n",
       "\n",
       "    .dataframe tbody tr th {\n",
       "        vertical-align: top;\n",
       "    }\n",
       "\n",
       "    .dataframe thead th {\n",
       "        text-align: right;\n",
       "    }\n",
       "</style>\n",
       "<table border=\"1\" class=\"dataframe\">\n",
       "  <thead>\n",
       "    <tr style=\"text-align: right;\">\n",
       "      <th></th>\n",
       "      <th>gene_id</th>\n",
       "      <th>seq</th>\n",
       "      <th>gc</th>\n",
       "      <th>fickett</th>\n",
       "      <th>target</th>\n",
       "    </tr>\n",
       "  </thead>\n",
       "  <tbody>\n",
       "    <tr>\n",
       "      <th>0</th>\n",
       "      <td>ENSG00000285756.2.2</td>\n",
       "      <td>AACAGCGTATAAGCAAGCGTTCCCTTCTTTGCATTCTCGCCAAGAG...</td>\n",
       "      <td>0.45</td>\n",
       "      <td>0.8063</td>\n",
       "      <td>sno</td>\n",
       "    </tr>\n",
       "    <tr>\n",
       "      <th>1</th>\n",
       "      <td>ENSG00000227078.1.2</td>\n",
       "      <td>TATGTACATGAAATTACCTGATCGTTTATGGGGTCCAGATTTCCTT...</td>\n",
       "      <td>0.44</td>\n",
       "      <td>0.6074</td>\n",
       "      <td>sno</td>\n",
       "    </tr>\n",
       "    <tr>\n",
       "      <th>2</th>\n",
       "      <td>ENSG00000171889.5.3</td>\n",
       "      <td>AGAGTTTGGTTTTGTGTCCACAACACATTCTTTGTCCAATCAGCAT...</td>\n",
       "      <td>0.42</td>\n",
       "      <td>0.6621</td>\n",
       "      <td>sno</td>\n",
       "    </tr>\n",
       "    <tr>\n",
       "      <th>3</th>\n",
       "      <td>ENSG00000229267.3.3</td>\n",
       "      <td>GTGGGAAGATGTGCCTTGCTTTTCCTTCGCCTTCCTCCATGATCAT...</td>\n",
       "      <td>0.51</td>\n",
       "      <td>1.0266</td>\n",
       "      <td>sno</td>\n",
       "    </tr>\n",
       "    <tr>\n",
       "      <th>4</th>\n",
       "      <td>ENSG00000257683.1.0</td>\n",
       "      <td>GACTTCTCACCCATTTACTCTTGGCAAAAGGCAGCTTCCTGCTTCT...</td>\n",
       "      <td>0.44</td>\n",
       "      <td>0.6871</td>\n",
       "      <td>sno</td>\n",
       "    </tr>\n",
       "  </tbody>\n",
       "</table>\n",
       "</div>"
      ],
      "text/plain": [
       "               gene_id                                                seq  \\\n",
       "0  ENSG00000285756.2.2  AACAGCGTATAAGCAAGCGTTCCCTTCTTTGCATTCTCGCCAAGAG...   \n",
       "1  ENSG00000227078.1.2  TATGTACATGAAATTACCTGATCGTTTATGGGGTCCAGATTTCCTT...   \n",
       "2  ENSG00000171889.5.3  AGAGTTTGGTTTTGTGTCCACAACACATTCTTTGTCCAATCAGCAT...   \n",
       "3  ENSG00000229267.3.3  GTGGGAAGATGTGCCTTGCTTTTCCTTCGCCTTCCTCCATGATCAT...   \n",
       "4  ENSG00000257683.1.0  GACTTCTCACCCATTTACTCTTGGCAAAAGGCAGCTTCCTGCTTCT...   \n",
       "\n",
       "     gc  fickett target  \n",
       "0  0.45   0.8063    sno  \n",
       "1  0.44   0.6074    sno  \n",
       "2  0.42   0.6621    sno  \n",
       "3  0.51   1.0266    sno  \n",
       "4  0.44   0.6871    sno  "
      ]
     },
     "execution_count": 74,
     "metadata": {},
     "output_type": "execute_result"
    }
   ],
   "source": [
    "flanks_down.head()"
   ]
  },
  {
   "cell_type": "markdown",
   "metadata": {},
   "source": [
    "kmer weights are calculated and saved in tuples for every kmer-sequence combination a tuple is created where\n",
    "\n",
    "`key`: if the kmer is present in the sequence or not, [1,0]\n",
    "\n",
    "`weight`: the normalized kmer weight\n",
    "\n",
    "`frequency`: times the kmer occurs"
   ]
  },
  {
   "cell_type": "code",
   "execution_count": 75,
   "metadata": {},
   "outputs": [],
   "source": [
    "#a multilabel binarizer is employed to create a feature from each of the tuple elements\n",
    "cmlb=pd.read_hdf(\"fs1/cmlb5\", key=\"mlb\")"
   ]
  },
  {
   "cell_type": "code",
   "execution_count": 76,
   "metadata": {},
   "outputs": [],
   "source": [
    "#the final training set is created combining all the features\n",
    "features_combined = pd.concat([flanks_down, cmlb], axis=1, copy=False)"
   ]
  },
  {
   "cell_type": "code",
   "execution_count": 77,
   "metadata": {},
   "outputs": [
    {
     "name": "stdout",
     "output_type": "stream",
     "text": [
      "(98, 1)\n",
      "(98, 574)\n",
      "(388, 1)\n",
      "(388, 574)\n",
      "(388,)\n",
      "(98,)\n",
      "(388, 574)\n",
      "(98, 574)\n"
     ]
    }
   ],
   "source": [
    "#we split the training set 80-20 for the classifier to train on\n",
    "\n",
    "features_combined.drop(['gene_id'], 1, inplace=True)\n",
    "\n",
    "#for phatscons/fs3\n",
    "#val = {'cons_1':0, 'cons_2':0, 'cons_3':0, 'cons_4':0, 'cons_5':0, 'cons_6':0, \n",
    "#'cons_7':0, 'cons_8':0, 'cons_9':0, 'cons_10':0, 'cons_11':0, 'cons_12':0, 'cons_13':0, \n",
    "#'cons_14':0, 'cons_15':0, 'cons_16':0, 'cons_17':0, 'cons_18':0, 'cons_19':0, 'cons_20':0}\n",
    "#features_combined_3.fillna(value=val, inplace=True)\n",
    "\n",
    "\n",
    "ncrna_train, ncrna_test = train_test_split(features_combined, test_size=0.2, random_state=42)\n",
    "\n",
    "ncrna_test_target=ncrna_test[[\"target\"]]\n",
    "ncrna_test=ncrna_test.drop([\"target\"],1)\n",
    "print (ncrna_test_target.shape)\n",
    "print (ncrna_test.shape)\n",
    "\n",
    "ncrna_train_target=ncrna_train[[\"target\"]]\n",
    "ncrna_train=ncrna_train.drop([\"target\"],1)\n",
    "print (ncrna_train_target.shape)\n",
    "print (ncrna_train.shape)\n",
    "\n",
    "#separating numerical features and categorical features\n",
    "num_feat=[]\n",
    "for x in ncrna_train.columns[1:]:\n",
    "    num_feat.append(x)\n",
    "\n",
    "cat_feat = [\"seq\"]\n",
    "\n",
    "#encoding the sequence feature\n",
    "#scaling the rest of the features\n",
    "#and creating a ColumnTransformer object\n",
    "cct = ColumnTransformer([\n",
    "    ('oe', OrdinalEncoder(), cat_feat),\n",
    "    ('num', StandardScaler(), num_feat)\n",
    "    ], remainder='passthrough')\n",
    "\n",
    "#fitting the split training set and test set\n",
    "X_train = cct.fit_transform(ncrna_train)\n",
    "X_test = cct.fit_transform(ncrna_test)\n",
    "\n",
    "#encoding the target labels\n",
    "ordinal = OrdinalEncoder()\n",
    "y_train = ordinal.fit_transform(ncrna_train_target)\n",
    "y_test = ordinal.fit_transform(ncrna_test_target)\n",
    "\n",
    "y_train = np.ravel(y_train)\n",
    "y_test = np.ravel(y_test)\n",
    "\n",
    "print (y_train.shape)\n",
    "print (y_test.shape)\n",
    "\n",
    "print (X_train.shape)\n",
    "print (X_test.shape)"
   ]
  },
  {
   "cell_type": "code",
   "execution_count": 78,
   "metadata": {},
   "outputs": [
    {
     "name": "stdout",
     "output_type": "stream",
     "text": [
      "accuracy: 0.42857142857142855\n"
     ]
    }
   ],
   "source": [
    "#training the random forest classifier with default params\n",
    "rnd_clf = RandomForestClassifier(n_estimators=100, n_jobs=-1, random_state=42)\n",
    "rnd_clf.fit(X_train, y_train)\n",
    "y_pred = rnd_clf.predict(X_test)\n",
    "print (f'accuracy: {accuracy_score(y_test, y_pred)}')"
   ]
  },
  {
   "cell_type": "code",
   "execution_count": 79,
   "metadata": {},
   "outputs": [
    {
     "name": "stdout",
     "output_type": "stream",
     "text": [
      "Fitting 10 folds for each of 16 candidates, totalling 160 fits\n"
     ]
    },
    {
     "name": "stderr",
     "output_type": "stream",
     "text": [
      "[Parallel(n_jobs=-1)]: Using backend LokyBackend with 8 concurrent workers.\n",
      "[Parallel(n_jobs=-1)]: Done  34 tasks      | elapsed:    4.2s\n",
      "[Parallel(n_jobs=-1)]: Done 160 out of 160 | elapsed:   46.3s finished\n"
     ]
    },
    {
     "name": "stdout",
     "output_type": "stream",
     "text": [
      "Grid search cv10 best score: 0.42004048582995945\n"
     ]
    }
   ],
   "source": [
    "#grid search with 10-fold cv\n",
    "param_grid = {'oob_score': [True, False], 'bootstrap':[True],\n",
    "              'criterion': [\"gini\", \"entropy\"], 'n_estimators':[100,300,500,1000]}\n",
    "grid_search_def10 = GridSearchCV(RandomForestClassifier(random_state=42),\n",
    "    param_grid, scoring=\"accuracy\", n_jobs=-1, verbose=1, cv=10)\n",
    "grid_search_def10.fit(X_train, y_train)\n",
    "\n",
    "print (f\"Grid search cv10 best score: {grid_search_def10.best_score_}\")"
   ]
  },
  {
   "cell_type": "code",
   "execution_count": 80,
   "metadata": {},
   "outputs": [
    {
     "name": "stdout",
     "output_type": "stream",
     "text": [
      "Fitting 5 folds for each of 16 candidates, totalling 80 fits\n"
     ]
    },
    {
     "name": "stderr",
     "output_type": "stream",
     "text": [
      "[Parallel(n_jobs=-1)]: Using backend LokyBackend with 8 concurrent workers.\n",
      "[Parallel(n_jobs=-1)]: Done  34 tasks      | elapsed:    9.9s\n",
      "[Parallel(n_jobs=-1)]: Done  80 out of  80 | elapsed:   22.9s finished\n"
     ]
    },
    {
     "name": "stdout",
     "output_type": "stream",
     "text": [
      "Grid search cv5 best score: 0.43283383283383287\n"
     ]
    }
   ],
   "source": [
    "#grid search with 5-fold cv starts\n",
    "param_grid = {'oob_score': [True, False], 'bootstrap': [True],\n",
    "              'criterion': [\"gini\", \"entropy\"], 'n_estimators':[100,300,500,1000]}\n",
    "grid_search_def5 = GridSearchCV(RandomForestClassifier(random_state=42),\n",
    "    param_grid, scoring=\"accuracy\", n_jobs=-1, verbose=1, cv=5)\n",
    "grid_search_def5.fit(X_train, y_train)\n",
    "\n",
    "print (f\"Grid search cv5 best score: {grid_search_def5.best_score_}\")"
   ]
  },
  {
   "cell_type": "code",
   "execution_count": 81,
   "metadata": {},
   "outputs": [
    {
     "name": "stdout",
     "output_type": "stream",
     "text": [
      "Grid search accuracy best params: {'bootstrap': True, 'criterion': 'entropy', 'n_estimators': 1000, 'oob_score': True}\n"
     ]
    }
   ],
   "source": [
    "#model 1 is the best estimator from the grid search with 10-fold cv\n",
    "#best parameters\n",
    "best_params = grid_search_def10.best_params_\n",
    "print (f\"Grid search accuracy best params: {best_params}\")"
   ]
  },
  {
   "cell_type": "code",
   "execution_count": 82,
   "metadata": {},
   "outputs": [
    {
     "name": "stdout",
     "output_type": "stream",
     "text": [
      "Grid search accuracy best params: {'bootstrap': True, 'criterion': 'entropy', 'n_estimators': 300, 'oob_score': True}\n"
     ]
    }
   ],
   "source": [
    "#model 2 is the best estimator from the grid search with 5-fold cv\n",
    "best_params = grid_search_def5.best_params_\n",
    "print (f\"Grid search accuracy best params: {best_params}\")"
   ]
  },
  {
   "cell_type": "code",
   "execution_count": 83,
   "metadata": {},
   "outputs": [
    {
     "name": "stdout",
     "output_type": "stream",
     "text": [
      "0.42857142857142855\n"
     ]
    }
   ],
   "source": [
    "#original model \n",
    "y_pred_orig = rnd_clf.predict(X_test)\n",
    "print (accuracy_score(y_test, y_pred_orig))"
   ]
  },
  {
   "cell_type": "code",
   "execution_count": 84,
   "metadata": {},
   "outputs": [
    {
     "name": "stdout",
     "output_type": "stream",
     "text": [
      "              precision    recall  f1-score   support\n",
      "\n",
      "         0.0       0.51      0.51      0.51        37\n",
      "         1.0       0.28      0.35      0.31        26\n",
      "         2.0       0.48      0.40      0.44        35\n",
      "\n",
      "    accuracy                           0.43        98\n",
      "   macro avg       0.43      0.42      0.42        98\n",
      "weighted avg       0.44      0.43      0.43        98\n",
      "\n"
     ]
    },
    {
     "data": {
      "text/plain": [
       "array([[19, 12,  6],\n",
       "       [ 8,  9,  9],\n",
       "       [10, 11, 14]])"
      ]
     },
     "execution_count": 84,
     "metadata": {},
     "output_type": "execute_result"
    },
    {
     "data": {
      "image/png": "[encoded data removed]",
      "text/plain": [
       "<Figure size 432x288 with 2 Axes>"
      ]
     },
     "metadata": {
      "needs_background": "light"
     },
     "output_type": "display_data"
    }
   ],
   "source": [
    "#classification matrix for the original model\n",
    "print(classification_report(y_test, y_pred))\n",
    "\n",
    "#path = \"fs1/w_fickett/results\"\n",
    "#if not os.path.isdir(join(path)):\n",
    "#    os.makedirs(join(path))\n",
    "#plt.savefig(join(path,\"feat_imp.png\"))\n",
    "\n",
    "disp = plot_confusion_matrix(rnd_clf, X_test, y_test,\n",
    "                                     display_labels=[\"lnc\",\"mir\",\"sno\"],\n",
    "                                     cmap=plt.cm.Blues)\n",
    "disp.ax_.set_title('feature set #1 with fickett score')\n",
    "disp.confusion_matrix\n",
    "#plt.savefig(join(path,\"conf_mat.png\"))"
   ]
  },
  {
   "cell_type": "code",
   "execution_count": 85,
   "metadata": {},
   "outputs": [
    {
     "data": {
      "text/plain": [
       "<matplotlib.axes._subplots.AxesSubplot at 0x7f6f4e60b7c0>"
      ]
     },
     "execution_count": 85,
     "metadata": {},
     "output_type": "execute_result"
    },
    {
     "data": {
      "image/png": "[encoded data removed]",
      "text/plain": [
       "<Figure size 1440x720 with 1 Axes>"
      ]
     },
     "metadata": {
      "needs_background": "light"
     },
     "output_type": "display_data"
    }
   ],
   "source": [
    "#feature importances\n",
    "feat_imp = rnd_clf.feature_importances_\n",
    "importances = pd.Series(feat_imp, index=features_combined.drop([\"target\"],1).columns)\n",
    "importances.nlargest(10).plot(kind=\"barh\",figsize=(20,10))"
   ]
  },
  {
   "cell_type": "markdown",
   "metadata": {},
   "source": [
    "### Next the unsupervised learning for DS-4\n",
    "\n",
    "***k-means clustering of the three RNA classes and PCA with two components.***"
   ]
  },
  {
   "cell_type": "code",
   "execution_count": 86,
   "metadata": {
    "scrolled": true
   },
   "outputs": [
    {
     "name": "stdout",
     "output_type": "stream",
     "text": [
      "number of iterations : 5\n",
      "\n",
      "predicted classes on the training set: Counter({0: 130, 2: 129, 1: 129})\n",
      "\n",
      "actual classes on the trainig set: Counter({1.0: 136, 2.0: 127, 0.0: 125})\n",
      "\n",
      "accuracy training set: 0.3479381443298969\n",
      "\n",
      "number of correctly classified samples: 135\n",
      "\n",
      "predicted classes on the test set: Counter({0: 98})\n",
      "\n",
      "actual classes on the test set: Counter({0.0: 37, 2.0: 35, 1.0: 26})\n",
      "\n",
      "accuracy test set: 0.37755102040816324\n"
     ]
    }
   ],
   "source": [
    "#k-means clustering of the three classes\n",
    "km = KMeans (n_clusters=3, init=\"k-means++\", random_state=42).fit(X_train)\n",
    "\n",
    "y = km.predict(X_test)\n",
    "\n",
    "print (f'number of iterations : {km.n_iter_}\\n')\n",
    "\n",
    "#labels : {0: lnc, 1: mir, 2:sno}\n",
    "#training set\n",
    "print(f'predicted classes on the training set: {Counter(km.labels_)}\\n')\n",
    "print(f'actual classes on the trainig set: {Counter(y_train)}\\n')\n",
    "print(f'accuracy training set: {accuracy_score(y_train, km.labels_)}\\n')\n",
    "print(f'number of correctly classified samples: {accuracy_score(y_train, km.labels_, normalize=False)}\\n')\n",
    "\n",
    "#test set\n",
    "print(f'predicted classes on the test set: {Counter(y)}\\n')\n",
    "print(f'actual classes on the test set: {Counter(y_test)}\\n') \n",
    "print(f'accuracy test set: {accuracy_score(y_test, y)}')"
   ]
  },
  {
   "cell_type": "code",
   "execution_count": 87,
   "metadata": {},
   "outputs": [
    {
     "name": "stdout",
     "output_type": "stream",
     "text": [
      "explained variance ratio: [0.95824547 0.00254755]\n",
      "n_compponents: 2\n",
      "features: 574\n",
      "samples: 388\n"
     ]
    },
    {
     "data": {
      "text/plain": [
       "<matplotlib.legend.Legend at 0x7f6f5d870b80>"
      ]
     },
     "execution_count": 87,
     "metadata": {},
     "output_type": "execute_result"
    },
    {
     "data": {
      "image/png": "[encoded data removed]",
      "text/plain": [
       "<Figure size 576x216 with 1 Axes>"
      ]
     },
     "metadata": {
      "needs_background": "light"
     },
     "output_type": "display_data"
    }
   ],
   "source": [
    "#pca\n",
    "p = PCA(n_components=2, random_state=42)\n",
    "\n",
    "X= p.fit_transform(X_train)\n",
    "\n",
    "print(f'explained variance ratio: {p.explained_variance_ratio_}')\n",
    "print(f'n_compponents: {p.n_components_}')\n",
    "print(f'features: {p.n_features_}')\n",
    "print(f'samples: {p.n_samples_}')\n",
    "\n",
    "fig = plt.figure(figsize=(8,3))\n",
    "colours = ['navy', 'turquoise', 'darkorange']\n",
    "targets = ['lnc', 'mir', 'sno']\n",
    "lw=2\n",
    "for colour, i, target_name in zip(colours, [0, 1, 2], targets):\n",
    "    plt.scatter(X[y_train == i, 0], X[y_train == i, 1], color=colour, alpha=.8, #lw=lw,\n",
    "                label=target_name)\n",
    "plt.legend(loc='best', shadow=False, scatterpoints=1)"
   ]
  },
  {
   "cell_type": "markdown",
   "metadata": {},
   "source": [
    "#### End of training on DS-4"
   ]
  },
  {
   "cell_type": "code",
   "execution_count": null,
   "metadata": {},
   "outputs": [],
   "source": []
  }
 ],
 "metadata": {
  "kernelspec": {
   "display_name": "Python 3",
   "language": "python",
   "name": "python3"
  },
  "language_info": {
   "codemirror_mode": {
    "name": "ipython",
    "version": 3
   },
   "file_extension": ".py",
   "mimetype": "text/x-python",
   "name": "python",
   "nbconvert_exporter": "python",
   "pygments_lexer": "ipython3",
   "version": "3.8.2"
  }
 },
 "nbformat": 4,
 "nbformat_minor": 4
}
